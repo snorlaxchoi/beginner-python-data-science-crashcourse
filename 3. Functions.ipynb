{
 "cells": [
  {
   "cell_type": "markdown",
   "id": "a8048278",
   "metadata": {},
   "source": [
    "# 0. Functions\n",
    "Function is important for calling specific segment of code for an action. It can be used repeatively over the code. \n",
    "A function has a structure of\n",
    "\n",
    "`def` `function name( )`: \n",
    "\n",
    "    //do stuff here\n",
    "    \n",
    "The processes in function makes the code modular and reduces repetition."
   ]
  },
  {
   "cell_type": "code",
   "execution_count": 1,
   "id": "1ead7267",
   "metadata": {},
   "outputs": [],
   "source": [
    "# defining a fucntion in python - recipe\n",
    "def launchpad_welcome():\n",
    "    print('name')"
   ]
  },
  {
   "cell_type": "code",
   "execution_count": 2,
   "id": "8dbd6f5e",
   "metadata": {},
   "outputs": [
    {
     "name": "stdout",
     "output_type": "stream",
     "text": [
      "name\n"
     ]
    }
   ],
   "source": [
    "# calling the function\n",
    "launchpad_welcome()"
   ]
  },
  {
   "cell_type": "markdown",
   "id": "037c8650",
   "metadata": {},
   "source": [
    "### Why do we need to use function?\n",
    "It reduces the time of rewriting the code and it can be passed with different arguments.\n",
    "\n",
    "Positional arguments need to be passed to a function in the correct order!"
   ]
  },
  {
   "cell_type": "markdown",
   "id": "d58f91a7",
   "metadata": {},
   "source": [
    "### Positional arguments"
   ]
  },
  {
   "cell_type": "code",
   "execution_count": 3,
   "id": "e5fd7daa",
   "metadata": {},
   "outputs": [],
   "source": [
    "def launchpad_welcome(name):\n",
    "    print(f'hello, {name}')\n",
    "    print('nice to meet you!')\n",
    "    print(\"I'm good thank you!\\n\")"
   ]
  },
  {
   "cell_type": "code",
   "execution_count": 4,
   "id": "ad37034d",
   "metadata": {},
   "outputs": [
    {
     "name": "stdout",
     "output_type": "stream",
     "text": [
      "hello, shipu\n",
      "nice to meet you!\n",
      "I'm good thank you!\n",
      "\n"
     ]
    }
   ],
   "source": [
    "launchpad_welcome('shipu')"
   ]
  },
  {
   "cell_type": "code",
   "execution_count": 5,
   "id": "a6d89422",
   "metadata": {},
   "outputs": [
    {
     "name": "stdout",
     "output_type": "stream",
     "text": [
      "hello, shipu\n",
      "nice to meet you!\n",
      "I'm good thank you!\n",
      "\n",
      "hello, shipu\n",
      "nice to meet you!\n",
      "I'm good thank you!\n",
      "\n",
      "hello, shipu\n",
      "nice to meet you!\n",
      "I'm good thank you!\n",
      "\n",
      "hello, shipu\n",
      "nice to meet you!\n",
      "I'm good thank you!\n",
      "\n",
      "hello, shipu\n",
      "nice to meet you!\n",
      "I'm good thank you!\n",
      "\n"
     ]
    }
   ],
   "source": [
    "for idx in range(5):\n",
    "    launchpad_welcome('shipu')"
   ]
  },
  {
   "cell_type": "code",
   "execution_count": 6,
   "id": "b23ac9ac",
   "metadata": {},
   "outputs": [],
   "source": [
    "names = ['neil armstrong', 'buzz aldrin', 'sally ride', 'yuri gagarin', 'elon musk']"
   ]
  },
  {
   "cell_type": "code",
   "execution_count": 7,
   "id": "2571a16f",
   "metadata": {},
   "outputs": [],
   "source": [
    "def custom_welcome(name):\n",
    "    '''\n",
    "    print out welcome, name of the person \n",
    "    '''\n",
    "    print(f'welcome, {name}')"
   ]
  },
  {
   "cell_type": "code",
   "execution_count": 8,
   "id": "59a53975",
   "metadata": {},
   "outputs": [
    {
     "ename": "IndexError",
     "evalue": "Replacement index 1 out of range for positional args tuple",
     "output_type": "error",
     "traceback": [
      "\u001b[0;31m---------------------------------------------------------------------------\u001b[0m",
      "\u001b[0;31mIndexError\u001b[0m                                Traceback (most recent call last)",
      "Input \u001b[0;32mIn [8]\u001b[0m, in \u001b[0;36m<cell line: 2>\u001b[0;34m()\u001b[0m\n\u001b[1;32m      1\u001b[0m \u001b[38;5;66;03m#this code wouldn't working because it has to have two arguments, the next cell fixed it\u001b[39;00m\n\u001b[0;32m----> 2\u001b[0m \u001b[38;5;28mprint\u001b[39m(\u001b[38;5;124;43m'\u001b[39;49m\u001b[38;5;124;43mwelcome, \u001b[39;49m\u001b[38;5;132;43;01m{}\u001b[39;49;00m\u001b[38;5;124;43m \u001b[39;49m\u001b[38;5;132;43;01m{}\u001b[39;49;00m\u001b[38;5;124;43m'\u001b[39;49m\u001b[38;5;241;43m.\u001b[39;49m\u001b[43mformat\u001b[49m\u001b[43m(\u001b[49m\u001b[38;5;124;43m'\u001b[39;49m\u001b[38;5;124;43mshipu\u001b[39;49m\u001b[38;5;124;43m'\u001b[39;49m\u001b[43m)\u001b[49m)\n",
      "\u001b[0;31mIndexError\u001b[0m: Replacement index 1 out of range for positional args tuple"
     ]
    }
   ],
   "source": [
    "#this code wouldn't working because it has to have two arguments, the next cell fixed it\n",
    "print('welcome, {} {}'.format('shipu')) "
   ]
  },
  {
   "cell_type": "code",
   "execution_count": 9,
   "id": "45cb25ee",
   "metadata": {},
   "outputs": [
    {
     "name": "stdout",
     "output_type": "stream",
     "text": [
      "welcome, shipu dipu\n"
     ]
    }
   ],
   "source": [
    "# string formatting\n",
    "print('welcome, {} {}'.format('shipu', 'dipu')) "
   ]
  },
  {
   "cell_type": "code",
   "execution_count": 10,
   "id": "52a047fa",
   "metadata": {},
   "outputs": [
    {
     "data": {
      "text/plain": [
       "\u001b[0;31mSignature:\u001b[0m \u001b[0mcustom_welcome\u001b[0m\u001b[0;34m(\u001b[0m\u001b[0mname\u001b[0m\u001b[0;34m)\u001b[0m\u001b[0;34m\u001b[0m\u001b[0;34m\u001b[0m\u001b[0m\n",
       "\u001b[0;31mDocstring:\u001b[0m print out welcome, name of the person \n",
       "\u001b[0;31mFile:\u001b[0m      /var/folders/xp/f35p9dwx24ggs3wyb5vv60nr0000gp/T/ipykernel_14435/345151657.py\n",
       "\u001b[0;31mType:\u001b[0m      function\n"
      ]
     },
     "metadata": {},
     "output_type": "display_data"
    }
   ],
   "source": [
    "custom_welcome?"
   ]
  },
  {
   "cell_type": "markdown",
   "id": "4b7aa5d6",
   "metadata": {},
   "source": [
    "### for loop in a list and function"
   ]
  },
  {
   "cell_type": "code",
   "execution_count": 11,
   "id": "9a85cdb3",
   "metadata": {},
   "outputs": [],
   "source": [
    "def custom_welcome(name):\n",
    "    '''\n",
    "    print out welcome, name of the person \n",
    "    '''\n",
    "    print(f'welcome, {name}')"
   ]
  },
  {
   "cell_type": "code",
   "execution_count": 12,
   "id": "19398a68",
   "metadata": {},
   "outputs": [
    {
     "name": "stdout",
     "output_type": "stream",
     "text": [
      "welcome, neil armstrong\n",
      "welcome, buzz aldrin\n",
      "welcome, sally ride\n",
      "welcome, yuri gagarin\n",
      "welcome, elon musk\n"
     ]
    }
   ],
   "source": [
    "for name in names: #running for loop in a list\n",
    "    custom_welcome(name) #calling the function and use the idx(name) from names list"
   ]
  },
  {
   "cell_type": "code",
   "execution_count": 13,
   "id": "48b037fe",
   "metadata": {},
   "outputs": [
    {
     "name": "stdout",
     "output_type": "stream",
     "text": [
      "welcome, Neil Armstrong\n",
      "welcome, Buzz Aldrin\n",
      "welcome, Sally Ride\n",
      "welcome, Yuri Gagarin\n",
      "welcome, Elon Musk\n"
     ]
    }
   ],
   "source": [
    "for name in names: #running for loop in a list\n",
    "    custom_welcome(name.title()) #you can have function wrapped inside of another function .title() capitalize names"
   ]
  },
  {
   "cell_type": "markdown",
   "id": "69eda935",
   "metadata": {},
   "source": [
    "### multiple positional arguments"
   ]
  },
  {
   "cell_type": "code",
   "execution_count": 14,
   "id": "9eb09079",
   "metadata": {},
   "outputs": [],
   "source": [
    "def custom_welcome_to_space_ship(name, space_ship):\n",
    "    print(f'welcome, {name} and your space ship is {space_ship}.')"
   ]
  },
  {
   "cell_type": "code",
   "execution_count": 15,
   "id": "b6f14245",
   "metadata": {},
   "outputs": [],
   "source": [
    "space_ship = 'travelverse spaceship'"
   ]
  },
  {
   "cell_type": "code",
   "execution_count": 16,
   "id": "adf60be3",
   "metadata": {},
   "outputs": [
    {
     "name": "stdout",
     "output_type": "stream",
     "text": [
      "welcome, travelverse spaceship and your space ship is shiba inu.\n"
     ]
    }
   ],
   "source": [
    "# positional arugments! so position of the arguments matter!\n",
    "custom_welcome_to_space_ship('travelverse spaceship', 'shiba inu') "
   ]
  },
  {
   "cell_type": "code",
   "execution_count": 17,
   "id": "fd04d57f",
   "metadata": {},
   "outputs": [
    {
     "name": "stdout",
     "output_type": "stream",
     "text": [
      "welcome, neil armstrong and your space ship is travelverse spaceship.\n",
      "welcome, buzz aldrin and your space ship is travelverse spaceship.\n",
      "welcome, sally ride and your space ship is travelverse spaceship.\n",
      "welcome, yuri gagarin and your space ship is travelverse spaceship.\n",
      "welcome, elon musk and your space ship is travelverse spaceship.\n"
     ]
    }
   ],
   "source": [
    "for name in names:\n",
    "    custom_welcome_to_space_ship(name, space_ship)"
   ]
  },
  {
   "cell_type": "code",
   "execution_count": 18,
   "id": "31672787",
   "metadata": {},
   "outputs": [],
   "source": [
    "space_ships = ['spaceship 1', 'spaceship 2', 'spaceship 3', 'spaceship 4', 'spaceship 5']"
   ]
  },
  {
   "cell_type": "code",
   "execution_count": 19,
   "id": "9c85e355",
   "metadata": {},
   "outputs": [
    {
     "name": "stdout",
     "output_type": "stream",
     "text": [
      "welcome, neil armstrong and your space ship is ['spaceship 1', 'spaceship 2', 'spaceship 3', 'spaceship 4', 'spaceship 5'].\n",
      "welcome, buzz aldrin and your space ship is ['spaceship 1', 'spaceship 2', 'spaceship 3', 'spaceship 4', 'spaceship 5'].\n",
      "welcome, sally ride and your space ship is ['spaceship 1', 'spaceship 2', 'spaceship 3', 'spaceship 4', 'spaceship 5'].\n",
      "welcome, yuri gagarin and your space ship is ['spaceship 1', 'spaceship 2', 'spaceship 3', 'spaceship 4', 'spaceship 5'].\n",
      "welcome, elon musk and your space ship is ['spaceship 1', 'spaceship 2', 'spaceship 3', 'spaceship 4', 'spaceship 5'].\n"
     ]
    }
   ],
   "source": [
    "for name in names:\n",
    "    custom_welcome_to_space_ship(name, space_ships) #no that's not how you would want it"
   ]
  },
  {
   "cell_type": "markdown",
   "id": "f9461982",
   "metadata": {},
   "source": [
    "### `enumerate` function can identify the value, getting the `idx` of the list\n",
    "The enumerate function adds a counter to whatever it's that you're looping through. This is super useful when you need to map through to a different list. The zip function is also useful here!\n"
   ]
  },
  {
   "cell_type": "code",
   "execution_count": 20,
   "id": "4b3fb0a9",
   "metadata": {},
   "outputs": [
    {
     "name": "stdout",
     "output_type": "stream",
     "text": [
      "0 neil armstrong\n",
      "1 buzz aldrin\n",
      "2 sally ride\n",
      "3 yuri gagarin\n",
      "4 elon musk\n"
     ]
    }
   ],
   "source": [
    "for idx, name in enumerate(names): #identifier and the value - getting the index position of an array/list\n",
    "    print(idx, name) "
   ]
  },
  {
   "cell_type": "code",
   "execution_count": 21,
   "id": "4e87b6e1",
   "metadata": {},
   "outputs": [
    {
     "name": "stdout",
     "output_type": "stream",
     "text": [
      "(0, 'neil armstrong')\n",
      "(1, 'buzz aldrin')\n",
      "(2, 'sally ride')\n",
      "(3, 'yuri gagarin')\n",
      "(4, 'elon musk')\n"
     ]
    }
   ],
   "source": [
    "for idx in enumerate(names): #identifier and the value - getting the index position of an array/list\n",
    "    print(idx) "
   ]
  },
  {
   "cell_type": "code",
   "execution_count": 22,
   "id": "d30759cb",
   "metadata": {},
   "outputs": [
    {
     "name": "stdout",
     "output_type": "stream",
     "text": [
      "(0, 'spaceship 1')\n",
      "(1, 'spaceship 2')\n",
      "(2, 'spaceship 3')\n",
      "(3, 'spaceship 4')\n",
      "(4, 'spaceship 5')\n"
     ]
    }
   ],
   "source": [
    "for idx in enumerate(space_ships): #identifier and the value - getting the index position of an array/list\n",
    "    print(idx) "
   ]
  },
  {
   "cell_type": "code",
   "execution_count": 23,
   "id": "b9e08a1f",
   "metadata": {},
   "outputs": [
    {
     "name": "stdout",
     "output_type": "stream",
     "text": [
      "0 spaceship 1\n",
      "1 spaceship 2\n",
      "2 spaceship 3\n",
      "3 spaceship 4\n",
      "4 spaceship 5\n"
     ]
    }
   ],
   "source": [
    "for idx, spaceship in enumerate(space_ships): #identifier and the value - getting the index position of an array/list\n",
    "    print(idx, spaceship) "
   ]
  },
  {
   "cell_type": "code",
   "execution_count": 26,
   "id": "5ee9e1dd",
   "metadata": {},
   "outputs": [
    {
     "name": "stdout",
     "output_type": "stream",
     "text": [
      "welcome, neil armstrong and your space ship is spaceship 1.\n",
      "welcome, buzz aldrin and your space ship is spaceship 2.\n",
      "welcome, sally ride and your space ship is spaceship 3.\n",
      "welcome, yuri gagarin and your space ship is spaceship 4.\n",
      "welcome, elon musk and your space ship is spaceship 5.\n"
     ]
    }
   ],
   "source": [
    "# using the enumerate function to get the positional index and the name\n",
    "for idx, name in enumerate(names): #identifier and the value - getting the index position of an array/list\n",
    "    spaceship = space_ships[idx]\n",
    "    custom_welcome_to_space_ship(name, spaceship)"
   ]
  },
  {
   "cell_type": "markdown",
   "id": "ffd7edcc-aec3-4b50-8e94-2cfdccb32385",
   "metadata": {},
   "source": [
    "### Keyword argument\n",
    "Keyword argument is when we initially provide a default value which it can run on."
   ]
  },
  {
   "cell_type": "code",
   "execution_count": 32,
   "id": "e59ebbc5",
   "metadata": {},
   "outputs": [],
   "source": [
    "# this is using keyword argument\n",
    "def space_suit(color='white'): #default value is white\n",
    "    print(f'Your spacesuit color is {color}.')"
   ]
  },
  {
   "cell_type": "code",
   "execution_count": 33,
   "id": "76704c6e-c11f-4c1f-b19e-9785f56773a4",
   "metadata": {},
   "outputs": [
    {
     "name": "stdout",
     "output_type": "stream",
     "text": [
      "Your spacesuit color is white.\n"
     ]
    }
   ],
   "source": [
    "space_suit()"
   ]
  },
  {
   "cell_type": "code",
   "execution_count": 35,
   "id": "a5c06d76-1c46-477d-87d6-eacecdd83fbb",
   "metadata": {},
   "outputs": [
    {
     "name": "stdout",
     "output_type": "stream",
     "text": [
      "Your spacesuit color is blue.\n"
     ]
    }
   ],
   "source": [
    "space_suit(color='blue')"
   ]
  },
  {
   "cell_type": "markdown",
   "id": "21e67dfd-c614-45ea-8572-d9ae9dad1c68",
   "metadata": {},
   "source": [
    "### Note: Positional argument has to always be before keyword argument\n",
    "When passing thhrough arguments, positional arguments need too be passed through FIRST (and in order), followed by keyword argument."
   ]
  },
  {
   "cell_type": "code",
   "execution_count": 58,
   "id": "4683f721-07bf-4d54-95c5-fb296d2a2256",
   "metadata": {},
   "outputs": [],
   "source": [
    "def space_suit_welcome(name, space_ship, color='white', allergy=None):\n",
    "    print(f'Welcome {name} to {space_ship}, your space suit color is {color}. Your allergy is {allergy}.')"
   ]
  },
  {
   "cell_type": "code",
   "execution_count": 37,
   "id": "fd516dea-8050-4531-81dc-d6b5dee684ab",
   "metadata": {},
   "outputs": [
    {
     "data": {
      "text/plain": [
       "['spaceship 1', 'spaceship 2', 'spaceship 3', 'spaceship 4', 'spaceship 5']"
      ]
     },
     "execution_count": 37,
     "metadata": {},
     "output_type": "execute_result"
    }
   ],
   "source": [
    "space_ships"
   ]
  },
  {
   "cell_type": "code",
   "execution_count": 59,
   "id": "2381248c-859d-4d2e-80b1-995b3873f026",
   "metadata": {},
   "outputs": [
    {
     "name": "stdout",
     "output_type": "stream",
     "text": [
      "Welcome shipu dipu to solar rova, your space suit color is white. Your allergy is None.\n"
     ]
    }
   ],
   "source": [
    "space_suit_welcome('shipu dipu', 'solar rova')"
   ]
  },
  {
   "cell_type": "code",
   "execution_count": 62,
   "id": "77370b31-c4f9-4b6f-bb4a-8e6a7469a6c4",
   "metadata": {},
   "outputs": [
    {
     "ename": "SyntaxError",
     "evalue": "positional argument follows keyword argument (1544416453.py, line 2)",
     "output_type": "error",
     "traceback": [
      "\u001b[0;36m  Input \u001b[0;32mIn [62]\u001b[0;36m\u001b[0m\n\u001b[0;31m    space_suit_welcome(color='grey', allergy='space dust', 'shipu dipu', 'solar rova')\u001b[0m\n\u001b[0m                                                                                     ^\u001b[0m\n\u001b[0;31mSyntaxError\u001b[0m\u001b[0;31m:\u001b[0m positional argument follows keyword argument\n"
     ]
    }
   ],
   "source": [
    "##this code will fail because keyword argument has to be behind positional argument\n",
    "space_suit_welcome(color='grey', allergy='space dust', 'shipu dipu', 'solar rova') "
   ]
  },
  {
   "cell_type": "code",
   "execution_count": 64,
   "id": "fe64b77c-57f9-4fd9-b28c-aeadd5b05770",
   "metadata": {},
   "outputs": [
    {
     "name": "stdout",
     "output_type": "stream",
     "text": [
      "Welcome shipu dipu to solar rova, your space suit color is grey. Your allergy is space dust.\n"
     ]
    }
   ],
   "source": [
    "space_suit_welcome('shipu dipu', 'solar rova',allergy='space dust', color='grey')"
   ]
  },
  {
   "cell_type": "markdown",
   "id": "73341a71-c1aa-43e1-97ba-7c0787c34095",
   "metadata": {},
   "source": [
    "##### Default enumerate loop"
   ]
  },
  {
   "cell_type": "code",
   "execution_count": 65,
   "id": "ffa3f360-d402-4434-a766-0e09663dc51b",
   "metadata": {},
   "outputs": [
    {
     "name": "stdout",
     "output_type": "stream",
     "text": [
      "Welcome neil armstrong to spaceship 1, your space suit color is white. Your allergy is None.\n",
      "Welcome buzz aldrin to spaceship 2, your space suit color is white. Your allergy is None.\n",
      "Welcome sally ride to spaceship 3, your space suit color is white. Your allergy is None.\n",
      "Welcome yuri gagarin to spaceship 4, your space suit color is white. Your allergy is None.\n",
      "Welcome elon musk to spaceship 5, your space suit color is white. Your allergy is None.\n"
     ]
    }
   ],
   "source": [
    "for idx, name in enumerate(names):\n",
    "    spaceship = space_ships[idx]\n",
    "    space_suit_welcome(name, spaceship) #since there's no keyword argument, it'll only print default value"
   ]
  },
  {
   "cell_type": "markdown",
   "id": "fdfab93d-5fe5-4fa8-9119-929d8b840853",
   "metadata": {},
   "source": [
    "### passing certain keyword argument"
   ]
  },
  {
   "cell_type": "code",
   "execution_count": 68,
   "id": "dde226b2-e409-4603-a988-45b821588293",
   "metadata": {},
   "outputs": [
    {
     "name": "stdout",
     "output_type": "stream",
     "text": [
      "Welcome neil armstrong to spaceship 1, your space suit color is white. Your allergy is None.\n",
      "Welcome buzz aldrin to spaceship 2, your space suit color is white. Your allergy is None.\n",
      "Welcome sally ride to spaceship 3, your space suit color is white. Your allergy is None.\n",
      "Welcome yuri gagarin to spaceship 4, your space suit color is blue. Your allergy is chocolate.\n",
      "Welcome elon musk to spaceship 5, your space suit color is orange. Your allergy is shiba inu.\n"
     ]
    }
   ],
   "source": [
    "for idx, name in enumerate(names):\n",
    "    spaceship = space_ships[idx]\n",
    "    if name == 'elon musk': #conditional statement\n",
    "        space_suit_welcome(name, spaceship, color='orange', allergy='shiba inu') #redefine keyword argument\n",
    "    elif spaceship == 'spaceship 4': #conditional statement\n",
    "        space_suit_welcome(name, spaceship, color='blue', allergy='chocolate') #redefine keyword argument\n",
    "    else: #conditional statement\n",
    "        space_suit_welcome(name, spaceship)"
   ]
  },
  {
   "cell_type": "markdown",
   "id": "8e29be3d-38dd-4ccc-8179-a18cf30d54e9",
   "metadata": {},
   "source": [
    "### `return` keyword\n",
    "instead of printing, let's change it to return keyword."
   ]
  },
  {
   "cell_type": "code",
   "execution_count": 74,
   "id": "548cd8b2-8950-4201-a2e4-f407e4753c71",
   "metadata": {},
   "outputs": [],
   "source": [
    "# set up return statement\n",
    "def space_suit_welcome_with_return(name, space_ship, color='white', allergy=None):\n",
    "    return f\"Welcome {name} to {space_ship}, your space suit color is {color}. Your allergy is {allergy}.\""
   ]
  },
  {
   "cell_type": "code",
   "execution_count": 79,
   "id": "1cb50e57-1254-4eab-bba6-90457b5b86c1",
   "metadata": {},
   "outputs": [],
   "source": [
    "def space_suit_welcome_with_return(name, space_ship, color='white', allergy=None):\n",
    "    return 'Welcome {} to {}, your space suit color is {}. Your allergy is {}'.format(name, space_ship, color, allergy)"
   ]
  },
  {
   "cell_type": "code",
   "execution_count": 83,
   "id": "c222a09f-9343-47a0-9a13-adc62405bada",
   "metadata": {},
   "outputs": [
    {
     "name": "stdout",
     "output_type": "stream",
     "text": [
      "Welcome elon musk to flying pan, your space suit color is white. Your allergy is None\n"
     ]
    }
   ],
   "source": [
    "# example of storing the results of the function inside a variable\n",
    "welcome_elon_musk_sentence = space_suit_welcome_with_return('elon musk', 'flying pan')\n",
    "print(welcome_elon_musk_sentence) #it has to be print to remove quotation marks."
   ]
  },
  {
   "cell_type": "markdown",
   "id": "21130ea3-be1d-4c45-afe4-1129fa74cb18",
   "metadata": {},
   "source": [
    "### Lambda function\n",
    "It is also called anonymous function. It can only be a single line function.\n",
    "\n",
    "The lambda function format is like:\n",
    "\n",
    "variable = `lambda` x : `return` value"
   ]
  },
  {
   "cell_type": "code",
   "execution_count": 84,
   "id": "0779251a",
   "metadata": {},
   "outputs": [],
   "source": [
    "pi = lambda x:x*3.14"
   ]
  },
  {
   "cell_type": "code",
   "execution_count": 85,
   "id": "ee1bccdb",
   "metadata": {},
   "outputs": [
    {
     "data": {
      "text/plain": [
       "6.28"
      ]
     },
     "execution_count": 85,
     "metadata": {},
     "output_type": "execute_result"
    }
   ],
   "source": [
    "pi(2)"
   ]
  },
  {
   "cell_type": "code",
   "execution_count": 86,
   "id": "548b295c",
   "metadata": {},
   "outputs": [
    {
     "data": {
      "text/plain": [
       "9.42"
      ]
     },
     "execution_count": 86,
     "metadata": {},
     "output_type": "execute_result"
    }
   ],
   "source": [
    "pi(3)"
   ]
  },
  {
   "cell_type": "code",
   "execution_count": 87,
   "id": "743fe203-78f2-4ec2-b2bf-8b70b9620c3d",
   "metadata": {},
   "outputs": [],
   "source": [
    "return_value = pi(2)"
   ]
  },
  {
   "cell_type": "code",
   "execution_count": 88,
   "id": "e5ecca61-3e4b-4c75-b5eb-56156a65cb3b",
   "metadata": {},
   "outputs": [
    {
     "name": "stdout",
     "output_type": "stream",
     "text": [
      "6.28\n"
     ]
    }
   ],
   "source": [
    "print(return_value)"
   ]
  },
  {
   "cell_type": "code",
   "execution_count": null,
   "id": "92d201f2-4bfd-44ef-9897-32cb4bfd98a2",
   "metadata": {},
   "outputs": [],
   "source": []
  },
  {
   "cell_type": "code",
   "execution_count": null,
   "id": "e1233134-8c99-433c-a76b-e99bf06e3044",
   "metadata": {},
   "outputs": [],
   "source": []
  },
  {
   "cell_type": "code",
   "execution_count": null,
   "id": "594a68a2-d578-48e1-bf11-b80d80ab2d31",
   "metadata": {},
   "outputs": [],
   "source": []
  },
  {
   "cell_type": "code",
   "execution_count": null,
   "id": "b5914aa0-4cc2-4631-97dd-88987ee2183c",
   "metadata": {},
   "outputs": [],
   "source": []
  },
  {
   "cell_type": "code",
   "execution_count": null,
   "id": "abe8c6a0-a3fa-4023-ad8d-030f560a9e12",
   "metadata": {},
   "outputs": [],
   "source": []
  },
  {
   "cell_type": "code",
   "execution_count": null,
   "id": "d33c766c-bf26-4e57-ae49-a8db96cb7efd",
   "metadata": {},
   "outputs": [],
   "source": []
  },
  {
   "cell_type": "code",
   "execution_count": null,
   "id": "855b0835",
   "metadata": {},
   "outputs": [],
   "source": []
  }
 ],
 "metadata": {
  "kernelspec": {
   "display_name": "Python 3 (ipykernel)",
   "language": "python",
   "name": "python3"
  },
  "language_info": {
   "codemirror_mode": {
    "name": "ipython",
    "version": 3
   },
   "file_extension": ".py",
   "mimetype": "text/x-python",
   "name": "python",
   "nbconvert_exporter": "python",
   "pygments_lexer": "ipython3",
   "version": "3.9.7"
  }
 },
 "nbformat": 4,
 "nbformat_minor": 5
}
