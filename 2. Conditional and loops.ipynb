{
 "cells": [
  {
   "cell_type": "markdown",
   "id": "4c0d209d-b778-4d0e-9fc2-567d6f58ac5b",
   "metadata": {},
   "source": [
    "# 0. Conditions and Logic\n",
    "It is useful for string check or number check, making sure it's passing the right value."
   ]
  },
  {
   "cell_type": "markdown",
   "id": "20c99e26-c442-4a81-b6aa-521ab031d9fd",
   "metadata": {},
   "source": [
    "#### applying logic using the `if` statement"
   ]
  },
  {
   "cell_type": "code",
   "execution_count": 1,
   "id": "8b6f2533-c1cf-4437-9502-75580ec8d804",
   "metadata": {},
   "outputs": [
    {
     "name": "stdout",
     "output_type": "stream",
     "text": [
      "shipu\n"
     ]
    }
   ],
   "source": [
    "name = input()"
   ]
  },
  {
   "cell_type": "markdown",
   "id": "46957b0d-0dc4-4625-ba7e-f0c9ffc73510",
   "metadata": {},
   "source": [
    "`==` is an logical operator."
   ]
  },
  {
   "cell_type": "code",
   "execution_count": 2,
   "id": "788d841e-e12e-4c51-8ba1-22074cac2727",
   "metadata": {},
   "outputs": [],
   "source": [
    "if name == 'neil armstrong':\n",
    "    print(f\"hello, {name}\")"
   ]
  },
  {
   "cell_type": "code",
   "execution_count": 3,
   "id": "3edef6d2-b27a-4ead-bfbb-daffb602e95f",
   "metadata": {},
   "outputs": [],
   "source": [
    "if name == 'neil armstrong':\n",
    "    print(\"hello, {}\".format(name))"
   ]
  },
  {
   "cell_type": "code",
   "execution_count": 4,
   "id": "ffa0322f-11de-4a4b-8eec-9cc23284fa85",
   "metadata": {},
   "outputs": [
    {
     "name": "stdout",
     "output_type": "stream",
     "text": [
      "hello, shipu\n"
     ]
    }
   ],
   "source": [
    "if name != 'neil armstrong':\n",
    "    print(\"hello, {}\".format(name))"
   ]
  },
  {
   "cell_type": "markdown",
   "id": "53ad7da9-8b83-47d6-95f1-6545173c3556",
   "metadata": {},
   "source": [
    "#### Comparison operators\n",
    "- `==`\n",
    "- `!=`\n",
    "- `>`\n",
    "- `<`\n",
    "- `=>`\n",
    "- `<=`"
   ]
  },
  {
   "cell_type": "markdown",
   "id": "d290961c-c75b-40b2-8f01-0f60d131afb4",
   "metadata": {},
   "source": [
    "#### 'if else' statement"
   ]
  },
  {
   "cell_type": "code",
   "execution_count": 5,
   "id": "e8b30843-dba7-4fe6-91cf-e6eabab1df17",
   "metadata": {},
   "outputs": [
    {
     "name": "stdout",
     "output_type": "stream",
     "text": [
      "The number is 10, 10 is greater than 5\n"
     ]
    }
   ],
   "source": [
    "test_number = 10\n",
    "if test_number > 5:\n",
    "    print('The number is {}, {} is greater than 5'.format(test_number, test_number))\n",
    "else:\n",
    "    print('The number is {}, {} is less than 5'.format(test_number, test_number))"
   ]
  },
  {
   "cell_type": "code",
   "execution_count": 6,
   "id": "c27bc887-ab4b-418d-a361-81d6b10e832e",
   "metadata": {},
   "outputs": [
    {
     "name": "stdout",
     "output_type": "stream",
     "text": [
      "The number is 2, 2 is less than 5\n"
     ]
    }
   ],
   "source": [
    "test_number = 2\n",
    "if test_number > 5:\n",
    "    print(f'The number is {test_number}, {test_number} is greater than 5')\n",
    "else:\n",
    "    print(f'The number is {test_number}, {test_number} is less than 5')"
   ]
  },
  {
   "cell_type": "code",
   "execution_count": 7,
   "id": "0b661d6d-9af5-43d0-8c79-d7d3c7325062",
   "metadata": {},
   "outputs": [
    {
     "name": "stdout",
     "output_type": "stream",
     "text": [
      "False\n"
     ]
    }
   ],
   "source": [
    "probability = 0.23\n",
    "if probability >= 0.5:\n",
    "    print(True)\n",
    "else:\n",
    "    print(False)"
   ]
  },
  {
   "cell_type": "markdown",
   "id": "d3a9dc3c-9d1d-4b80-9d4e-8e83698a9909",
   "metadata": {},
   "source": [
    "#### 'elif' statement"
   ]
  },
  {
   "cell_type": "code",
   "execution_count": 8,
   "id": "db25248e-d7c3-4484-98ab-2df933fad6f2",
   "metadata": {},
   "outputs": [
    {
     "name": "stdout",
     "output_type": "stream",
     "text": [
      "check the probability\n"
     ]
    }
   ],
   "source": [
    "probability = 1.23\n",
    "if 0 > probability or probability > 1: #probability can't be below 0 or over 1, screening statement\n",
    "    print('check the probability')\n",
    "elif probability >= 0.5: #task\n",
    "    print(True)\n",
    "else:\n",
    "    print(False) #catch all statement"
   ]
  },
  {
   "cell_type": "markdown",
   "id": "9ace989f-44e8-45e5-809d-daead006bce5",
   "metadata": {},
   "source": [
    "#### `in` to check whether a value is in the list"
   ]
  },
  {
   "cell_type": "code",
   "execution_count": 9,
   "id": "2a5383b7-4778-4837-b42b-fc0c744a3632",
   "metadata": {},
   "outputs": [
    {
     "name": "stdout",
     "output_type": "stream",
     "text": [
      "elon's here\n"
     ]
    }
   ],
   "source": [
    "# create a list of name\n",
    "names = ['neil armstrong', 'buzz aldrin', 'sally ride', 'yuri gagarin', 'elon musk' ]\n",
    "if 'elon musk' in names:\n",
    "    print('elon\\'s here') #using python escapes"
   ]
  },
  {
   "cell_type": "markdown",
   "id": "34c90e05-5602-4a52-b2a0-2712d2080ca5",
   "metadata": {},
   "source": [
    "# 1. Loops"
   ]
  },
  {
   "cell_type": "markdown",
   "id": "55abd49b-d6e1-4698-9937-b2de37f5ae95",
   "metadata": {},
   "source": [
    "#### `for` loop\n",
    "A for loop allos you to iterate over a sequence in a list or range. You'll use them all the time for repeating processes but particularly working with lists."
   ]
  },
  {
   "cell_type": "code",
   "execution_count": 10,
   "id": "2c45b9a1-9e48-4c6c-8bc4-f931fd9de876",
   "metadata": {},
   "outputs": [
    {
     "name": "stdout",
     "output_type": "stream",
     "text": [
      "neil armstrong\n",
      "buzz aldrin\n",
      "sup buzz!\n",
      "sally ride\n",
      "yuri gagarin\n",
      "elon musk\n",
      "where is moon?\n"
     ]
    }
   ],
   "source": [
    "for name in names:\n",
    "    print(name)\n",
    "    if name == 'buzz aldrin':\n",
    "        print(\"sup buzz!\")\n",
    "    elif name == 'elon musk':\n",
    "        print('where is moon?')"
   ]
  },
  {
   "cell_type": "markdown",
   "id": "e34aea6d-5b9d-4bc1-b7a4-999034cefa08",
   "metadata": {},
   "source": [
    "#### `break`"
   ]
  },
  {
   "cell_type": "code",
   "execution_count": 11,
   "id": "e0a09751-8f2d-485b-a5ef-c0fb03cc7f09",
   "metadata": {},
   "outputs": [
    {
     "name": "stdout",
     "output_type": "stream",
     "text": [
      "neil armstrong\n",
      "name not part of conditions\n",
      "pleased to have you here!\n",
      "\n",
      "buzz aldrin\n",
      "sup buzz!\n",
      "pleased to have you here!\n",
      "\n",
      "sally ride\n",
      "name not part of conditions\n",
      "pleased to have you here!\n",
      "\n",
      "yuri gagarin\n",
      "hey yuri\n"
     ]
    }
   ],
   "source": [
    "for name in names:\n",
    "    print(name)\n",
    "    \n",
    "    # condition statement block\n",
    "    if name == 'buzz aldrin':\n",
    "        print(\"sup buzz!\")\n",
    "    elif name == 'yuri gagarin':\n",
    "        print('hey yuri')\n",
    "        break #break statement breaks the loop\n",
    "    else:\n",
    "        print('name not part of conditions')\n",
    "        \n",
    "    #outside of if statement block\n",
    "    print('pleased to have you here!\\n')"
   ]
  },
  {
   "cell_type": "markdown",
   "id": "d20e2aed-82cf-4f2a-8713-ff68bd5e0d21",
   "metadata": {},
   "source": [
    "#### `continue`"
   ]
  },
  {
   "cell_type": "code",
   "execution_count": 12,
   "id": "543a1dc7-e894-4a9f-aa0a-234bbfab2071",
   "metadata": {},
   "outputs": [
    {
     "name": "stdout",
     "output_type": "stream",
     "text": [
      "neil armstrong\n",
      "name not part of conditions\n",
      "pleased to have you here!\n",
      "\n",
      "buzz aldrin\n",
      "sup buzz!\n",
      "\n",
      "sally ride\n",
      "name not part of conditions\n",
      "pleased to have you here!\n",
      "\n",
      "yuri gagarin\n",
      "hey yuri\n"
     ]
    }
   ],
   "source": [
    "for name in names:\n",
    "    print(name)\n",
    "    \n",
    "    # condition statement block\n",
    "    if name == 'buzz aldrin':\n",
    "        print(\"sup buzz!\\n\")\n",
    "        continue #directly goes to the next value on the list\n",
    "    elif name == 'yuri gagarin':\n",
    "        print('hey yuri')\n",
    "        break\n",
    "    else:\n",
    "        print('name not part of conditions')\n",
    "        \n",
    "    #outside of if statement block\n",
    "    print('pleased to have you here!\\n')"
   ]
  },
  {
   "cell_type": "markdown",
   "id": "dea4cb84-d088-4cfa-bff0-be185fe613b0",
   "metadata": {},
   "source": [
    "#### `pass` \n",
    "pass means don't do anything"
   ]
  },
  {
   "cell_type": "code",
   "execution_count": 13,
   "id": "452063ae-a733-423e-af06-12440c571217",
   "metadata": {},
   "outputs": [
    {
     "name": "stdout",
     "output_type": "stream",
     "text": [
      "neil armstrong\n",
      "pleased to have you here!\n",
      "\n",
      "buzz aldrin\n",
      "sup buzz!\n",
      "\n",
      "sally ride\n",
      "pleased to have you here!\n",
      "\n",
      "yuri gagarin\n",
      "hey yuri\n"
     ]
    }
   ],
   "source": [
    "for name in names:\n",
    "    print(name)\n",
    "    \n",
    "    # condition statement block\n",
    "    if name == 'buzz aldrin':\n",
    "        print(\"sup buzz!\\n\")\n",
    "        continue #directly goes to the next value on the list\n",
    "    elif name == 'yuri gagarin':\n",
    "        print('hey yuri')\n",
    "        break\n",
    "    else:\n",
    "        pass #placeholder for not doing anything\n",
    "        \n",
    "    #outside of if statement block\n",
    "    print('pleased to have you here!\\n')"
   ]
  },
  {
   "cell_type": "markdown",
   "id": "57681667-a5a3-4a9f-a3fa-aa3c3a81740a",
   "metadata": {},
   "source": [
    "#### Loop for\n",
    "loop x number of times"
   ]
  },
  {
   "cell_type": "code",
   "execution_count": 14,
   "id": "82d31dcf-1038-4c17-a844-eae8994b30eb",
   "metadata": {},
   "outputs": [
    {
     "name": "stdout",
     "output_type": "stream",
     "text": [
      "0\n",
      "1\n",
      "2\n",
      "3\n",
      "4\n",
      "5\n",
      "6\n",
      "7\n",
      "8\n",
      "9\n"
     ]
    }
   ],
   "source": [
    "for idx in range(10):\n",
    "    print(idx)"
   ]
  },
  {
   "cell_type": "code",
   "execution_count": 15,
   "id": "ea3a8e2c-66da-4515-997e-90dd37ed7cca",
   "metadata": {},
   "outputs": [
    {
     "name": "stdout",
     "output_type": "stream",
     "text": [
      "1\n",
      "2\n",
      "3\n",
      "4\n",
      "5\n",
      "6\n",
      "7\n",
      "8\n",
      "9\n",
      "10\n"
     ]
    }
   ],
   "source": [
    "for idx in range(1,11):\n",
    "    print(idx)"
   ]
  },
  {
   "cell_type": "markdown",
   "id": "517a2323-8b11-45f7-a046-4e64aab4acd9",
   "metadata": {},
   "source": [
    "#### `while` loop\n",
    "it'll be an infinite loop until break statement is placed"
   ]
  },
  {
   "cell_type": "code",
   "execution_count": 16,
   "id": "e4af52ad-65c4-49ff-aea3-104473b6c526",
   "metadata": {
    "tags": []
   },
   "outputs": [
    {
     "name": "stdout",
     "output_type": "stream",
     "text": [
      "shuttle 1 launch\n",
      "shuttle 2 launch\n",
      "shuttle 3 launch\n",
      "shuttle 4 launch\n",
      "shuttle 5 launch\n",
      "all shuttles lauched\n"
     ]
    }
   ],
   "source": [
    "launched_shuttles = 0\n",
    "total_shuttles = 5\n",
    "\n",
    "while True:\n",
    "    print('shuttle {} launch'.format(launched_shuttles+1))\n",
    "    launched_shuttles += 1\n",
    "    if launched_shuttles == total_shuttles:\n",
    "        print('all shuttles lauched')\n",
    "        break"
   ]
  },
  {
   "cell_type": "markdown",
   "id": "68ca112d-32f8-41aa-8b09-4d56bf41f415",
   "metadata": {},
   "source": [
    "#### Looping through dictionary"
   ]
  },
  {
   "cell_type": "code",
   "execution_count": 20,
   "id": "eb62accd-a58f-4e8a-ad47-45ac6ef7979f",
   "metadata": {},
   "outputs": [],
   "source": [
    "astronaut = {\n",
    "    'name':'Elon musk',\n",
    "    'suit_size':'medium',\n",
    "    'allergies':'peanuts'\n",
    "}"
   ]
  },
  {
   "cell_type": "code",
   "execution_count": 21,
   "id": "96b13010",
   "metadata": {},
   "outputs": [
    {
     "data": {
      "text/plain": [
       "dict_keys(['name', 'suit_size', 'allergies'])"
      ]
     },
     "execution_count": 21,
     "metadata": {},
     "output_type": "execute_result"
    }
   ],
   "source": [
    "#accessing dictionary keys\n",
    "astronaut.keys()"
   ]
  },
  {
   "cell_type": "code",
   "execution_count": 22,
   "id": "08bd71ef-b824-46e4-934d-99cd3899304c",
   "metadata": {},
   "outputs": [
    {
     "name": "stdout",
     "output_type": "stream",
     "text": [
      "name\n",
      "suit_size\n",
      "allergies\n"
     ]
    }
   ],
   "source": [
    "#loop through keys in dictionary\n",
    "for key in astronaut.keys():\n",
    "    print(key)"
   ]
  },
  {
   "cell_type": "code",
   "execution_count": 23,
   "id": "7c76907d-a458-40f1-999a-dc2094da1479",
   "metadata": {
    "tags": []
   },
   "outputs": [
    {
     "data": {
      "text/plain": [
       "dict_values(['Elon musk', 'medium', 'peanuts'])"
      ]
     },
     "execution_count": 23,
     "metadata": {},
     "output_type": "execute_result"
    }
   ],
   "source": [
    "#accessing dictionary values\n",
    "astronaut.values()"
   ]
  },
  {
   "cell_type": "code",
   "execution_count": 26,
   "id": "c51d5be3",
   "metadata": {},
   "outputs": [
    {
     "name": "stdout",
     "output_type": "stream",
     "text": [
      "Elon musk\n",
      "medium\n",
      "peanuts\n"
     ]
    }
   ],
   "source": [
    "#loop through values in dictionary\n",
    "for value in astronaut.values():\n",
    "    print(value)"
   ]
  },
  {
   "cell_type": "code",
   "execution_count": 27,
   "id": "f22ab364",
   "metadata": {},
   "outputs": [
    {
     "data": {
      "text/plain": [
       "dict_items([('name', 'Elon musk'), ('suit_size', 'medium'), ('allergies', 'peanuts')])"
      ]
     },
     "execution_count": 27,
     "metadata": {},
     "output_type": "execute_result"
    }
   ],
   "source": [
    "astronaut.items()"
   ]
  },
  {
   "cell_type": "code",
   "execution_count": 32,
   "id": "06ee4bfd",
   "metadata": {},
   "outputs": [
    {
     "name": "stdout",
     "output_type": "stream",
     "text": [
      "name\n",
      "Elon musk \n",
      "\n",
      "suit_size\n",
      "medium \n",
      "\n",
      "allergies\n",
      "peanuts \n",
      "\n"
     ]
    }
   ],
   "source": [
    "# loop through keys and values at the same time\n",
    "for key, value in astronaut.items():\n",
    "    print(key)\n",
    "    print(value, '\\n') #'\\n' means next line"
   ]
  },
  {
   "cell_type": "markdown",
   "id": "b53be073",
   "metadata": {},
   "source": [
    "#### List comprehension"
   ]
  },
  {
   "cell_type": "code",
   "execution_count": 38,
   "id": "6967115c",
   "metadata": {},
   "outputs": [
    {
     "data": {
      "text/plain": [
       "['neil armstrong', 'buzz aldrin', 'sally ride', 'yuri gagarin', 'elon musk']"
      ]
     },
     "execution_count": 38,
     "metadata": {},
     "output_type": "execute_result"
    }
   ],
   "source": [
    "# create a list of name\n",
    "names = ['neil armstrong', 'buzz aldrin', 'sally ride', 'yuri gagarin', 'elon musk' ]\n",
    "names"
   ]
  },
  {
   "cell_type": "code",
   "execution_count": 36,
   "id": "9dce9193",
   "metadata": {},
   "outputs": [],
   "source": [
    "# captialize the names of astronauts and create another list\n",
    "new_list = [name.title() for name in names] "
   ]
  },
  {
   "cell_type": "code",
   "execution_count": 37,
   "id": "de737992",
   "metadata": {},
   "outputs": [
    {
     "data": {
      "text/plain": [
       "['Neil Armstrong', 'Buzz Aldrin', 'Sally Ride', 'Yuri Gagarin', 'Elon Musk']"
      ]
     },
     "execution_count": 37,
     "metadata": {},
     "output_type": "execute_result"
    }
   ],
   "source": [
    "new_list"
   ]
  },
  {
   "cell_type": "code",
   "execution_count": null,
   "id": "74b407d7",
   "metadata": {},
   "outputs": [],
   "source": []
  },
  {
   "cell_type": "code",
   "execution_count": null,
   "id": "5d12e759",
   "metadata": {},
   "outputs": [],
   "source": []
  },
  {
   "cell_type": "code",
   "execution_count": null,
   "id": "a7af8c81-1d0b-4a4b-9911-5eb004696f95",
   "metadata": {},
   "outputs": [],
   "source": []
  },
  {
   "cell_type": "code",
   "execution_count": null,
   "id": "77755889-d4a0-41d5-8727-3c0db3844775",
   "metadata": {},
   "outputs": [],
   "source": []
  }
 ],
 "metadata": {
  "kernelspec": {
   "display_name": "Python 3 (ipykernel)",
   "language": "python",
   "name": "python3"
  },
  "language_info": {
   "codemirror_mode": {
    "name": "ipython",
    "version": 3
   },
   "file_extension": ".py",
   "mimetype": "text/x-python",
   "name": "python",
   "nbconvert_exporter": "python",
   "pygments_lexer": "ipython3",
   "version": "3.9.7"
  }
 },
 "nbformat": 4,
 "nbformat_minor": 5
}
