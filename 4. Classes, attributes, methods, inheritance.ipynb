{
 "cells": [
  {
   "cell_type": "markdown",
   "id": "f5faeaca-a2e0-45e4-a18f-f8aed3aea8b2",
   "metadata": {},
   "source": [
    "# 4. Classes, attributes, methods, class inheritance"
   ]
  },
  {
   "cell_type": "markdown",
   "id": "f4d7e041-0941-4e7f-86ea-939059744d73",
   "metadata": {},
   "source": [
    "### What are classes?\n",
    "Classes are like boilier plates, it consists of properties, it can be a method or strings etc. A string has different methods and different attributes. \n",
    "\n",
    "The term boilerplate refers to standardized text, copy, documents, methods, or procedures that may be used over again without making major changes to the original. A boilerplate is commonly used for efficiency and to increase standardization in the structure and language of written or digital documents. \n",
    "\n",
    "Classes are being used frequently when building neural networks with Tensorflow and Pytorch. It is particularly useful in deep learning or other machine learning in order to customize the layout for the model. Such as inputting a certain number of layers, define a specific activation function.\n",
    "\n",
    "Eg. People, we are classes with the same template, we have head, skin, brain, etc.\n",
    "\n",
    "Let's look at the example. Classess don't need to be defined in uppercase but it is a good coding practice to do so."
   ]
  },
  {
   "cell_type": "markdown",
   "id": "eaa970e9-cdc6-4893-9209-0398bad607f9",
   "metadata": {},
   "source": [
    "#### Class requirement\n",
    "\n",
    "Classes require method `__init__()`, which stands for initialization, to attach to them.\n",
    "\n",
    "Also, they'll have attribute and properties. It is good for data pre-processing."
   ]
  },
  {
   "cell_type": "markdown",
   "id": "e7f901d4-91d9-4b83-ac06-4b5d6a791052",
   "metadata": {},
   "source": [
    "#### Method\n",
    "Method is just like a function but it's attached to the class. \n",
    "\n",
    "The core difference is that a method must be called on an object (aka instance of a class)."
   ]
  },
  {
   "cell_type": "code",
   "execution_count": 1,
   "id": "ac298d6c-b108-49c0-a725-eb9507baaea4",
   "metadata": {},
   "outputs": [],
   "source": [
    "# classes as boilerplates for objects\n",
    "class Person():\n",
    "    # the method that runs as soon as you create a class\n",
    "    def __init__(self, name, age, color): #self, we are passing this instance of this class to this __init__() function\n",
    "        # create some attributes for person class\n",
    "        self.name = name\n",
    "        self.age = age\n",
    "        self.color = color\n",
    "        \n",
    "    # date of birth method\n",
    "    def year_of_birth(self):\n",
    "        return 2022-self.age\n",
    "    \n",
    "    # projected age\n",
    "    def projected_age(self, years=5):\n",
    "        return self.age+years"
   ]
  },
  {
   "cell_type": "code",
   "execution_count": 2,
   "id": "f151c101-c393-4e88-99a9-547c1aba3a8f",
   "metadata": {},
   "outputs": [],
   "source": [
    "new_person = Person('elon musk', 38, 'blue')"
   ]
  },
  {
   "cell_type": "code",
   "execution_count": 3,
   "id": "ab1b36a9-7adb-48da-a0fb-345d99a5d513",
   "metadata": {},
   "outputs": [
    {
     "data": {
      "text/plain": [
       "'elon musk'"
      ]
     },
     "execution_count": 3,
     "metadata": {},
     "output_type": "execute_result"
    }
   ],
   "source": [
    "# accessing class attribute\n",
    "new_person.name #there is no need of () as it's not a function but an attribute"
   ]
  },
  {
   "cell_type": "code",
   "execution_count": 4,
   "id": "81152fa6-1b3e-4592-8318-c79a2c4d17ab",
   "metadata": {},
   "outputs": [
    {
     "data": {
      "text/plain": [
       "'blue'"
      ]
     },
     "execution_count": 4,
     "metadata": {},
     "output_type": "execute_result"
    }
   ],
   "source": [
    "new_person.color"
   ]
  },
  {
   "cell_type": "code",
   "execution_count": 5,
   "id": "bb230255-67ca-49b9-82e0-56811f8ac28f",
   "metadata": {},
   "outputs": [
    {
     "data": {
      "text/plain": [
       "1984"
      ]
     },
     "execution_count": 5,
     "metadata": {},
     "output_type": "execute_result"
    }
   ],
   "source": [
    "# run a method - method requires ()\n",
    "new_person.year_of_birth()"
   ]
  },
  {
   "cell_type": "code",
   "execution_count": 6,
   "id": "59902904-71e0-441e-8779-1f9358945305",
   "metadata": {},
   "outputs": [
    {
     "data": {
      "text/plain": [
       "43"
      ]
     },
     "execution_count": 6,
     "metadata": {},
     "output_type": "execute_result"
    }
   ],
   "source": [
    "# run a method with keyword argument with default value\n",
    "new_person.projected_age()"
   ]
  },
  {
   "cell_type": "code",
   "execution_count": 7,
   "id": "a37e46e8-f05b-4450-ba5d-a270d5971561",
   "metadata": {},
   "outputs": [
    {
     "data": {
      "text/plain": [
       "138"
      ]
     },
     "execution_count": 7,
     "metadata": {},
     "output_type": "execute_result"
    }
   ],
   "source": [
    "new_person.projected_age(years=100)"
   ]
  },
  {
   "cell_type": "markdown",
   "id": "81bd99b2",
   "metadata": {},
   "source": [
    "### Inheritance\n",
    "Taking the existing class and add on more attribute and properties for your own use case.\n",
    "\n",
    "The base class/parent's class attributes and methods with flow through to the child's class, so it means if you update the parent class, the child can automatically share those attributes and methods.\n",
    "\n",
    "Inheriting from parent classes allows you to make your code modular as you're extending an existing template (parent class) rather than redefining all the properties and method all over again."
   ]
  },
  {
   "cell_type": "code",
   "execution_count": 8,
   "id": "5d140298-e93a-4ec9-a164-bcfe218c63fd",
   "metadata": {},
   "outputs": [],
   "source": [
    "# inheritances \n",
    "# parent - is the class passing down the attributes and methods = person\n",
    "# child - is the class inheriting the methods and attributes = astronaut"
   ]
  },
  {
   "cell_type": "markdown",
   "id": "2472f274",
   "metadata": {},
   "source": [
    "#### Use `super.( )` to inherit the parent class"
   ]
  },
  {
   "cell_type": "code",
   "execution_count": 29,
   "id": "14fe67fe-a4b2-4814-af0a-b09eacab5be4",
   "metadata": {},
   "outputs": [],
   "source": [
    "#create a child class\n",
    "class Astronaut(Person):\n",
    "    \n",
    "    #define initialization method\n",
    "    # it is essential to pass through parent class attribute\n",
    "    def __init__(self, name, age, color, mission_length_in_months): \n",
    "        super().__init__(name, age, color) #inheritance of the parent class - use super.()\n",
    "        self.mission_length_in_months = mission_length_in_months\n",
    "        \n",
    "    #method for caculating age on return\n",
    "    def age_on_return(self):\n",
    "        return self.projected_age(years=self.mission_length_in_months/12)"
   ]
  },
  {
   "cell_type": "code",
   "execution_count": 30,
   "id": "6478a0b7-a7f8-4d46-9901-ec991a8931da",
   "metadata": {},
   "outputs": [],
   "source": [
    "new_astronaut = Astronaut('shiba inu', 5, 'orange', 24)"
   ]
  },
  {
   "cell_type": "code",
   "execution_count": 16,
   "id": "c206b24e",
   "metadata": {},
   "outputs": [
    {
     "data": {
      "text/plain": [
       "'shiba inu'"
      ]
     },
     "execution_count": 16,
     "metadata": {},
     "output_type": "execute_result"
    }
   ],
   "source": [
    "# accessing parent like attribute\n",
    "new_astronaut.name"
   ]
  },
  {
   "cell_type": "code",
   "execution_count": 31,
   "id": "3fd46025",
   "metadata": {},
   "outputs": [
    {
     "data": {
      "text/plain": [
       "24"
      ]
     },
     "execution_count": 31,
     "metadata": {},
     "output_type": "execute_result"
    }
   ],
   "source": [
    "# run a child attribute\n",
    "new_astronaut.mission_length_in_months"
   ]
  },
  {
   "cell_type": "code",
   "execution_count": 20,
   "id": "e788f9b0",
   "metadata": {},
   "outputs": [
    {
     "data": {
      "text/plain": [
       "2017"
      ]
     },
     "execution_count": 20,
     "metadata": {},
     "output_type": "execute_result"
    }
   ],
   "source": [
    "# run a parent method\n",
    "new_astronaut.year_of_birth()"
   ]
  },
  {
   "cell_type": "code",
   "execution_count": 24,
   "id": "95b22d97",
   "metadata": {},
   "outputs": [
    {
     "data": {
      "text/plain": [
       "7.0"
      ]
     },
     "execution_count": 24,
     "metadata": {},
     "output_type": "execute_result"
    }
   ],
   "source": [
    "# run a child method\n",
    "new_astronaut.age_on_return()"
   ]
  },
  {
   "cell_type": "code",
   "execution_count": 25,
   "id": "c8c2c4e7",
   "metadata": {},
   "outputs": [
    {
     "data": {
      "text/plain": [
       "7"
      ]
     },
     "execution_count": 25,
     "metadata": {},
     "output_type": "execute_result"
    }
   ],
   "source": [
    "#typecasting to int\n",
    "int(new_astronaut.age_on_return())"
   ]
  },
  {
   "cell_type": "code",
   "execution_count": null,
   "id": "55ccf225",
   "metadata": {},
   "outputs": [],
   "source": []
  },
  {
   "cell_type": "code",
   "execution_count": null,
   "id": "2483cbf6",
   "metadata": {},
   "outputs": [],
   "source": []
  },
  {
   "cell_type": "code",
   "execution_count": null,
   "id": "d990f105",
   "metadata": {},
   "outputs": [],
   "source": []
  },
  {
   "cell_type": "code",
   "execution_count": null,
   "id": "0f88bda6",
   "metadata": {},
   "outputs": [],
   "source": []
  },
  {
   "cell_type": "code",
   "execution_count": null,
   "id": "84e18230-e99a-4581-9d77-f69683925e2b",
   "metadata": {},
   "outputs": [],
   "source": []
  }
 ],
 "metadata": {
  "kernelspec": {
   "display_name": "Python 3 (ipykernel)",
   "language": "python",
   "name": "python3"
  },
  "language_info": {
   "codemirror_mode": {
    "name": "ipython",
    "version": 3
   },
   "file_extension": ".py",
   "mimetype": "text/x-python",
   "name": "python",
   "nbconvert_exporter": "python",
   "pygments_lexer": "ipython3",
   "version": "3.9.7"
  }
 },
 "nbformat": 4,
 "nbformat_minor": 5
}
