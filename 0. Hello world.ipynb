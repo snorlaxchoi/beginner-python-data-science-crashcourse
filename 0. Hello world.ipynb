{
 "cells": [
  {
   "cell_type": "markdown",
   "id": "b9226907",
   "metadata": {},
   "source": [
    "# First of all, let's say hello world!"
   ]
  },
  {
   "cell_type": "code",
   "execution_count": 1,
   "id": "460defec",
   "metadata": {},
   "outputs": [
    {
     "name": "stdout",
     "output_type": "stream",
     "text": [
      "hello, world\n"
     ]
    }
   ],
   "source": [
    "print(\"hello, world\")"
   ]
  },
  {
   "cell_type": "code",
   "execution_count": 2,
   "id": "eaa0239e",
   "metadata": {},
   "outputs": [
    {
     "name": "stdout",
     "output_type": "stream",
     "text": [
      "this is how you find help\n"
     ]
    }
   ],
   "source": [
    "print(\"this is how you find help\") ##use shift+tab to open a short documentation"
   ]
  },
  {
   "cell_type": "markdown",
   "id": "5c2b18f6",
   "metadata": {},
   "source": [
    "### this is another way of getting help - using the `?`"
   ]
  },
  {
   "cell_type": "code",
   "execution_count": 3,
   "id": "d29762c8",
   "metadata": {},
   "outputs": [],
   "source": [
    "print?"
   ]
  },
  {
   "cell_type": "markdown",
   "id": "f6f4c1fc",
   "metadata": {},
   "source": [
    "# Why mastering jupyter notebook and python is essential?\n",
    "There are different notebook types when working in the data science field.\n",
    "\n",
    "- should definitely checkout google colab and Watson studio notebook!"
   ]
  },
  {
   "cell_type": "code",
   "execution_count": 4,
   "id": "b7ecddbf",
   "metadata": {},
   "outputs": [
    {
     "name": "stdout",
     "output_type": "stream",
     "text": [
      "12345\n"
     ]
    }
   ],
   "source": [
    "print(12345)"
   ]
  },
  {
   "cell_type": "code",
   "execution_count": 5,
   "id": "2ad9bf36",
   "metadata": {},
   "outputs": [
    {
     "name": "stdout",
     "output_type": "stream",
     "text": [
      "helu\n"
     ]
    }
   ],
   "source": [
    "print(\"helu\")"
   ]
  },
  {
   "cell_type": "markdown",
   "id": "88711109",
   "metadata": {},
   "source": [
    "# For any programming language, remember \"*CRUD*\"\n",
    "\n",
    "- Create\n",
    "- Read\n",
    "- Update\n",
    "- Delete"
   ]
  },
  {
   "cell_type": "markdown",
   "id": "3875c0f0",
   "metadata": {},
   "source": [
    "# 0. Variables\n",
    "\n",
    "we use `=` to assign variables"
   ]
  },
  {
   "cell_type": "code",
   "execution_count": 6,
   "id": "4b21630b",
   "metadata": {},
   "outputs": [],
   "source": [
    "space_name = 12345"
   ]
  },
  {
   "cell_type": "code",
   "execution_count": 7,
   "id": "31315c0d",
   "metadata": {},
   "outputs": [
    {
     "data": {
      "text/plain": [
       "int"
      ]
     },
     "execution_count": 7,
     "metadata": {},
     "output_type": "execute_result"
    }
   ],
   "source": [
    "type(space_name)"
   ]
  },
  {
   "cell_type": "code",
   "execution_count": 8,
   "id": "421d870d",
   "metadata": {},
   "outputs": [],
   "source": [
    "space_name = 12345.678"
   ]
  },
  {
   "cell_type": "code",
   "execution_count": 9,
   "id": "29810301",
   "metadata": {},
   "outputs": [
    {
     "data": {
      "text/plain": [
       "float"
      ]
     },
     "execution_count": 9,
     "metadata": {},
     "output_type": "execute_result"
    }
   ],
   "source": [
    "type(space_name)"
   ]
  },
  {
   "cell_type": "markdown",
   "id": "4f65a6cb",
   "metadata": {},
   "source": [
    "# 1. Data types\n",
    "Some of the most important ones are:\n",
    "- string\n",
    "- int\n",
    "- float\n",
    "- boolean"
   ]
  },
  {
   "cell_type": "markdown",
   "id": "e528eff0",
   "metadata": {},
   "source": [
    "#### String\n",
    "String is a line of text and wrapped inside \" \"."
   ]
  },
  {
   "cell_type": "code",
   "execution_count": 10,
   "id": "9e4f2274",
   "metadata": {},
   "outputs": [
    {
     "name": "stdout",
     "output_type": "stream",
     "text": [
      "This is a string.\n"
     ]
    }
   ],
   "source": [
    "test_variable = 'This is a string.' #this is declaring a variable as a string\n",
    "print(test_variable)"
   ]
  },
  {
   "cell_type": "code",
   "execution_count": 11,
   "id": "8916f56e",
   "metadata": {},
   "outputs": [
    {
     "data": {
      "text/plain": [
       "str"
      ]
     },
     "execution_count": 11,
     "metadata": {},
     "output_type": "execute_result"
    }
   ],
   "source": [
    "type(test_variable)"
   ]
  },
  {
   "cell_type": "markdown",
   "id": "29cdd8f1",
   "metadata": {},
   "source": [
    "#### Int\n",
    "Int stands for integers, it can be postive and neagtive numbers as long as it's not with decimals and trailing numbers."
   ]
  },
  {
   "cell_type": "code",
   "execution_count": 12,
   "id": "1224790c",
   "metadata": {},
   "outputs": [],
   "source": [
    "positive_number = 100\n",
    "negative_number = -123"
   ]
  },
  {
   "cell_type": "code",
   "execution_count": 13,
   "id": "e6f6a246",
   "metadata": {},
   "outputs": [
    {
     "data": {
      "text/plain": [
       "int"
      ]
     },
     "execution_count": 13,
     "metadata": {},
     "output_type": "execute_result"
    }
   ],
   "source": [
    "type(positive_number)"
   ]
  },
  {
   "cell_type": "code",
   "execution_count": 14,
   "id": "f4812eb3",
   "metadata": {},
   "outputs": [
    {
     "data": {
      "text/plain": [
       "int"
      ]
     },
     "execution_count": 14,
     "metadata": {},
     "output_type": "execute_result"
    }
   ],
   "source": [
    "type(negative_number)"
   ]
  },
  {
   "cell_type": "code",
   "execution_count": 15,
   "id": "30b99500",
   "metadata": {},
   "outputs": [
    {
     "data": {
      "text/plain": [
       "110"
      ]
     },
     "execution_count": 15,
     "metadata": {},
     "output_type": "execute_result"
    }
   ],
   "source": [
    "positive_number + 10"
   ]
  },
  {
   "cell_type": "code",
   "execution_count": 16,
   "id": "ee024fec",
   "metadata": {},
   "outputs": [],
   "source": [
    "float_number = 12345.678"
   ]
  },
  {
   "cell_type": "code",
   "execution_count": 17,
   "id": "3754b9fb",
   "metadata": {},
   "outputs": [
    {
     "data": {
      "text/plain": [
       "float"
      ]
     },
     "execution_count": 17,
     "metadata": {},
     "output_type": "execute_result"
    }
   ],
   "source": [
    "type(float_number)"
   ]
  },
  {
   "cell_type": "markdown",
   "id": "7dca59ba",
   "metadata": {},
   "source": [
    "#### Boolean value\n",
    "Boolean value is either True or False. They have to be used with caps. `True` and `False`"
   ]
  },
  {
   "cell_type": "code",
   "execution_count": 18,
   "id": "6f82bd17",
   "metadata": {},
   "outputs": [
    {
     "data": {
      "text/plain": [
       "False"
      ]
     },
     "execution_count": 18,
     "metadata": {},
     "output_type": "execute_result"
    }
   ],
   "source": [
    "bool_variable = bool(0) \n",
    "bool_variable"
   ]
  },
  {
   "cell_type": "code",
   "execution_count": 19,
   "id": "d414c880",
   "metadata": {},
   "outputs": [
    {
     "data": {
      "text/plain": [
       "bool"
      ]
     },
     "execution_count": 19,
     "metadata": {},
     "output_type": "execute_result"
    }
   ],
   "source": [
    "type(bool_variable)"
   ]
  },
  {
   "cell_type": "markdown",
   "id": "87fc2752",
   "metadata": {},
   "source": [
    "#### Lists\n",
    "List can contain 'string', 'int' and 'float' etc. They are also known as array. They are contained within square brackets [ ]. We need to separate each value with comma."
   ]
  },
  {
   "cell_type": "code",
   "execution_count": 20,
   "id": "5ef8bed8",
   "metadata": {},
   "outputs": [
    {
     "data": {
      "text/plain": [
       "list"
      ]
     },
     "execution_count": 20,
     "metadata": {},
     "output_type": "execute_result"
    }
   ],
   "source": [
    "list_variable = [1,2,3]\n",
    "type(list_variable)"
   ]
  },
  {
   "cell_type": "code",
   "execution_count": 21,
   "id": "06d1cb37",
   "metadata": {},
   "outputs": [
    {
     "data": {
      "text/plain": [
       "[1, 2, 3]"
      ]
     },
     "execution_count": 21,
     "metadata": {},
     "output_type": "execute_result"
    }
   ],
   "source": [
    "list_variable"
   ]
  },
  {
   "cell_type": "code",
   "execution_count": 22,
   "id": "93f70612",
   "metadata": {},
   "outputs": [
    {
     "data": {
      "text/plain": [
       "list"
      ]
     },
     "execution_count": 22,
     "metadata": {},
     "output_type": "execute_result"
    }
   ],
   "source": [
    "list_variable = [1,\"string\",123.45]\n",
    "type(list_variable)"
   ]
  },
  {
   "cell_type": "code",
   "execution_count": 23,
   "id": "9d24a23c",
   "metadata": {},
   "outputs": [
    {
     "data": {
      "text/plain": [
       "[1, 'string', 123.45]"
      ]
     },
     "execution_count": 23,
     "metadata": {},
     "output_type": "execute_result"
    }
   ],
   "source": [
    "list_variable"
   ]
  },
  {
   "cell_type": "code",
   "execution_count": 24,
   "id": "ede54ebe",
   "metadata": {},
   "outputs": [
    {
     "data": {
      "text/plain": [
       "1"
      ]
     },
     "execution_count": 24,
     "metadata": {},
     "output_type": "execute_result"
    }
   ],
   "source": [
    "list_variable[0]"
   ]
  },
  {
   "cell_type": "code",
   "execution_count": 25,
   "id": "92bd078b",
   "metadata": {},
   "outputs": [
    {
     "data": {
      "text/plain": [
       "[2, 'string', 123.45]"
      ]
     },
     "execution_count": 25,
     "metadata": {},
     "output_type": "execute_result"
    }
   ],
   "source": [
    "list_variable[0] = 2\n",
    "list_variable"
   ]
  },
  {
   "cell_type": "code",
   "execution_count": 26,
   "id": "5c5869a8",
   "metadata": {},
   "outputs": [],
   "source": [
    "list_variable = [1,\"string\",123.45, 5,4,3,3,2,2,1]"
   ]
  },
  {
   "cell_type": "markdown",
   "id": "15524bae",
   "metadata": {},
   "source": [
    "#### Tuple\n",
    "Tuple is denoted by a series of values wrapped in parentheses ( ). A core difference between a tuple and a list is that a tuple is **immutable**. i.e. it can't be changed."
   ]
  },
  {
   "cell_type": "code",
   "execution_count": 27,
   "id": "2525dd28",
   "metadata": {},
   "outputs": [
    {
     "data": {
      "text/plain": [
       "tuple"
      ]
     },
     "execution_count": 27,
     "metadata": {},
     "output_type": "execute_result"
    }
   ],
   "source": [
    "tuple_variable = (1.2, 3.4, 1) #more use case in opencv, computer vision type x,y,z coordination\n",
    "type(tuple_variable)"
   ]
  },
  {
   "cell_type": "code",
   "execution_count": 28,
   "id": "3503d644",
   "metadata": {},
   "outputs": [
    {
     "data": {
      "text/plain": [
       "(1.2, 3.4, 1)"
      ]
     },
     "execution_count": 28,
     "metadata": {},
     "output_type": "execute_result"
    }
   ],
   "source": [
    "tuple_variable"
   ]
  },
  {
   "cell_type": "code",
   "execution_count": 29,
   "id": "d68f56db",
   "metadata": {},
   "outputs": [
    {
     "data": {
      "text/plain": [
       "1.2"
      ]
     },
     "execution_count": 29,
     "metadata": {},
     "output_type": "execute_result"
    }
   ],
   "source": [
    "tuple_variable[0]"
   ]
  },
  {
   "cell_type": "code",
   "execution_count": 30,
   "id": "00af4627",
   "metadata": {},
   "outputs": [
    {
     "ename": "TypeError",
     "evalue": "'tuple' object does not support item assignment",
     "output_type": "error",
     "traceback": [
      "\u001b[0;31m---------------------------------------------------------------------------\u001b[0m",
      "\u001b[0;31mTypeError\u001b[0m                                 Traceback (most recent call last)",
      "Input \u001b[0;32mIn [30]\u001b[0m, in \u001b[0;36m<cell line: 1>\u001b[0;34m()\u001b[0m\n\u001b[0;32m----> 1\u001b[0m tuple_variable[\u001b[38;5;241m0\u001b[39m] \u001b[38;5;241m=\u001b[39m \u001b[38;5;241m3\u001b[39m\n",
      "\u001b[0;31mTypeError\u001b[0m: 'tuple' object does not support item assignment"
     ]
    }
   ],
   "source": [
    "tuple_variable[0] = 3 ##since it is immutable -> it will create an error once you assigned the variable"
   ]
  },
  {
   "cell_type": "markdown",
   "id": "58335695",
   "metadata": {},
   "source": [
    "#### Set\n",
    "A set is denoted by a series of values wrapped in curly braces { }. Sets are also **immutable**. A core difference between a tuple and a set is that a set **does not contain duplicate values**. "
   ]
  },
  {
   "cell_type": "code",
   "execution_count": 31,
   "id": "fa3712ba",
   "metadata": {},
   "outputs": [
    {
     "data": {
      "text/plain": [
       "set"
      ]
     },
     "execution_count": 31,
     "metadata": {},
     "output_type": "execute_result"
    }
   ],
   "source": [
    "set_variable = {2, 'string', 123.45}\n",
    "type(set_variable)"
   ]
  },
  {
   "cell_type": "code",
   "execution_count": 32,
   "id": "979b8d06",
   "metadata": {},
   "outputs": [
    {
     "ename": "TypeError",
     "evalue": "'set' object is not subscriptable",
     "output_type": "error",
     "traceback": [
      "\u001b[0;31m---------------------------------------------------------------------------\u001b[0m",
      "\u001b[0;31mTypeError\u001b[0m                                 Traceback (most recent call last)",
      "Input \u001b[0;32mIn [32]\u001b[0m, in \u001b[0;36m<cell line: 1>\u001b[0;34m()\u001b[0m\n\u001b[0;32m----> 1\u001b[0m \u001b[43mset_variable\u001b[49m\u001b[43m[\u001b[49m\u001b[38;5;241;43m0\u001b[39;49m\u001b[43m]\u001b[49m\n",
      "\u001b[0;31mTypeError\u001b[0m: 'set' object is not subscriptable"
     ]
    }
   ],
   "source": [
    "set_variable[0] ##set object is not subscriptable, it does not have an order so to say"
   ]
  },
  {
   "cell_type": "code",
   "execution_count": 33,
   "id": "e697319f",
   "metadata": {},
   "outputs": [],
   "source": [
    "set_variable = {1, 1, 2, 'string', 123.45}"
   ]
  },
  {
   "cell_type": "code",
   "execution_count": 34,
   "id": "3678f0c0",
   "metadata": {},
   "outputs": [
    {
     "data": {
      "text/plain": [
       "{1, 123.45, 2, 'string'}"
      ]
     },
     "execution_count": 34,
     "metadata": {},
     "output_type": "execute_result"
    }
   ],
   "source": [
    "set_variable"
   ]
  },
  {
   "cell_type": "markdown",
   "id": "b4e754c9",
   "metadata": {},
   "source": [
    "#### Why do we need to use list, tuple, and set? Why not just use list?\n",
    "It is useful for type casting. For example,"
   ]
  },
  {
   "cell_type": "code",
   "execution_count": 35,
   "id": "3c7a6cee",
   "metadata": {},
   "outputs": [
    {
     "data": {
      "text/plain": [
       "[1, 'string', 123.45, 5, 4, 3, 3, 2, 2, 1]"
      ]
     },
     "execution_count": 35,
     "metadata": {},
     "output_type": "execute_result"
    }
   ],
   "source": [
    "list_variable"
   ]
  },
  {
   "cell_type": "code",
   "execution_count": 36,
   "id": "2932baea",
   "metadata": {},
   "outputs": [
    {
     "data": {
      "text/plain": [
       "{1, 123.45, 2, 3, 4, 5, 'string'}"
      ]
     },
     "execution_count": 36,
     "metadata": {},
     "output_type": "execute_result"
    }
   ],
   "source": [
    "# Type casting list to set back to list to get rid of duplicates\n",
    "set(list_variable)"
   ]
  },
  {
   "cell_type": "code",
   "execution_count": 37,
   "id": "620594bc",
   "metadata": {},
   "outputs": [
    {
     "data": {
      "text/plain": [
       "[1, 2, 3, 4, 5, 'string', 123.45]"
      ]
     },
     "execution_count": 37,
     "metadata": {},
     "output_type": "execute_result"
    }
   ],
   "source": [
    "list(set(list_variable))"
   ]
  },
  {
   "cell_type": "code",
   "execution_count": 38,
   "id": "62ca62e7",
   "metadata": {},
   "outputs": [
    {
     "data": {
      "text/plain": [
       "list"
      ]
     },
     "execution_count": 38,
     "metadata": {},
     "output_type": "execute_result"
    }
   ],
   "source": [
    "type(list(set(list_variable)))"
   ]
  },
  {
   "cell_type": "code",
   "execution_count": 45,
   "id": "0608be41",
   "metadata": {},
   "outputs": [
    {
     "data": {
      "text/plain": [
       "(1, 'string', 123.45, 5, 4, 3, 3, 2, 2, 1)"
      ]
     },
     "execution_count": 45,
     "metadata": {},
     "output_type": "execute_result"
    }
   ],
   "source": [
    "tuple(list_variable) #tuple, so now it's immutable"
   ]
  },
  {
   "cell_type": "markdown",
   "id": "178d798a",
   "metadata": {},
   "source": [
    "\n",
    "#### Dictionary\n",
    "keypair = keys and values, where the format has to be `'string'`:`'string'` or `int` or others."
   ]
  },
  {
   "cell_type": "code",
   "execution_count": 40,
   "id": "c611e977",
   "metadata": {},
   "outputs": [
    {
     "data": {
      "text/plain": [
       "dict"
      ]
     },
     "execution_count": 40,
     "metadata": {},
     "output_type": "execute_result"
    }
   ],
   "source": [
    "dict_variable = {'name':'Josh', 'favourite_color':'blue', 'favorite_number':99 }\n",
    "type(dict_variable)"
   ]
  },
  {
   "cell_type": "code",
   "execution_count": 41,
   "id": "28efd14d",
   "metadata": {},
   "outputs": [
    {
     "name": "stdout",
     "output_type": "stream",
     "text": [
      "{'name': 'Josh', 'favourite_color': 'blue', 'favorite_number': 99}\n"
     ]
    }
   ],
   "source": [
    "print(dict_variable)"
   ]
  },
  {
   "cell_type": "markdown",
   "id": "0f751fde",
   "metadata": {},
   "source": [
    "#### Why is dictionary powerful?\n",
    "It allows user to retrieve certain data from key."
   ]
  },
  {
   "cell_type": "code",
   "execution_count": 42,
   "id": "b3e1b96c",
   "metadata": {},
   "outputs": [],
   "source": [
    "person_variable = {'name':'Josh', 'favourite_color':'blue', 'favorite_number':99 }"
   ]
  },
  {
   "cell_type": "code",
   "execution_count": 44,
   "id": "350b9e64",
   "metadata": {},
   "outputs": [
    {
     "data": {
      "text/plain": [
       "'Josh'"
      ]
     },
     "execution_count": 44,
     "metadata": {},
     "output_type": "execute_result"
    }
   ],
   "source": [
    "person_variable['name']"
   ]
  },
  {
   "cell_type": "markdown",
   "id": "451893e3",
   "metadata": {},
   "source": [
    "It's important for machine learning model and parameters of the model."
   ]
  },
  {
   "cell_type": "code",
   "execution_count": 47,
   "id": "a7e4af7f",
   "metadata": {},
   "outputs": [],
   "source": [
    "fit_model = {}"
   ]
  },
  {
   "cell_type": "markdown",
   "id": "3dc106ce",
   "metadata": {},
   "source": [
    "# 2. List"
   ]
  },
  {
   "cell_type": "markdown",
   "id": "523d75ae",
   "metadata": {},
   "source": [
    "#### Create"
   ]
  },
  {
   "cell_type": "code",
   "execution_count": 50,
   "id": "c5a0d720",
   "metadata": {},
   "outputs": [],
   "source": [
    "names = ['neil armstrong', 'buzz aldrin', 'sally ride', 'yuri gagrin', 'elon musk']"
   ]
  },
  {
   "cell_type": "markdown",
   "id": "4136ed92",
   "metadata": {},
   "source": [
    "#### Read"
   ]
  },
  {
   "cell_type": "code",
   "execution_count": 51,
   "id": "67445fb5",
   "metadata": {},
   "outputs": [
    {
     "data": {
      "text/plain": [
       "['neil armstrong', 'buzz aldrin', 'sally ride', 'yuri gagrin', 'elon musk']"
      ]
     },
     "execution_count": 51,
     "metadata": {},
     "output_type": "execute_result"
    }
   ],
   "source": [
    "names"
   ]
  },
  {
   "cell_type": "code",
   "execution_count": 52,
   "id": "c679f766",
   "metadata": {},
   "outputs": [
    {
     "data": {
      "text/plain": [
       "'neil armstrong'"
      ]
     },
     "execution_count": 52,
     "metadata": {},
     "output_type": "execute_result"
    }
   ],
   "source": [
    "names[0]"
   ]
  },
  {
   "cell_type": "code",
   "execution_count": 53,
   "id": "244138ac",
   "metadata": {},
   "outputs": [
    {
     "data": {
      "text/plain": [
       "'elon musk'"
      ]
     },
     "execution_count": 53,
     "metadata": {},
     "output_type": "execute_result"
    }
   ],
   "source": [
    "names[-1]"
   ]
  },
  {
   "cell_type": "code",
   "execution_count": 55,
   "id": "64cf706a",
   "metadata": {},
   "outputs": [
    {
     "data": {
      "text/plain": [
       "5"
      ]
     },
     "execution_count": 55,
     "metadata": {},
     "output_type": "execute_result"
    }
   ],
   "source": [
    "len(names)"
   ]
  },
  {
   "cell_type": "markdown",
   "id": "fb11f837",
   "metadata": {},
   "source": [
    "#### Update"
   ]
  },
  {
   "cell_type": "code",
   "execution_count": 56,
   "id": "d28a598d",
   "metadata": {},
   "outputs": [
    {
     "data": {
      "text/plain": [
       "['neil armstrong', 'buzz aldrin', 'sally ride', 'yuri gagrin', 'Shiba Inu']"
      ]
     },
     "execution_count": 56,
     "metadata": {},
     "output_type": "execute_result"
    }
   ],
   "source": [
    "\n",
    "names[-1] = 'Shiba Inu'\n",
    "names"
   ]
  },
  {
   "cell_type": "code",
   "execution_count": 57,
   "id": "e94ca9f9",
   "metadata": {},
   "outputs": [],
   "source": [
    "names.append('elon musk')"
   ]
  },
  {
   "cell_type": "code",
   "execution_count": 58,
   "id": "81f15c0d",
   "metadata": {},
   "outputs": [
    {
     "data": {
      "text/plain": [
       "['neil armstrong',\n",
       " 'buzz aldrin',\n",
       " 'sally ride',\n",
       " 'yuri gagrin',\n",
       " 'Shiba Inu',\n",
       " 'elon musk']"
      ]
     },
     "execution_count": 58,
     "metadata": {},
     "output_type": "execute_result"
    }
   ],
   "source": [
    "names"
   ]
  },
  {
   "cell_type": "code",
   "execution_count": 59,
   "id": "5836d993",
   "metadata": {},
   "outputs": [],
   "source": [
    "names.insert?"
   ]
  },
  {
   "cell_type": "code",
   "execution_count": 65,
   "id": "05aaee0f",
   "metadata": {},
   "outputs": [
    {
     "data": {
      "text/plain": [
       "['neil armstrong',\n",
       " 'buzz aldrin',\n",
       " 'richard benson',\n",
       " 'sally ride',\n",
       " 'yuri gagrin',\n",
       " 'Shiba Inu',\n",
       " 'elon musk']"
      ]
     },
     "execution_count": 65,
     "metadata": {},
     "output_type": "execute_result"
    }
   ],
   "source": [
    "names.insert(2, 'richard benson')\n",
    "names"
   ]
  },
  {
   "cell_type": "markdown",
   "id": "d3898090",
   "metadata": {},
   "source": [
    "#### Delete"
   ]
  },
  {
   "cell_type": "code",
   "execution_count": 66,
   "id": "8d9af342",
   "metadata": {},
   "outputs": [
    {
     "data": {
      "text/plain": [
       "['neil armstrong',\n",
       " 'buzz aldrin',\n",
       " 'sally ride',\n",
       " 'yuri gagrin',\n",
       " 'Shiba Inu',\n",
       " 'elon musk']"
      ]
     },
     "execution_count": 66,
     "metadata": {},
     "output_type": "execute_result"
    }
   ],
   "source": [
    "del names[2]\n",
    "names"
   ]
  },
  {
   "cell_type": "markdown",
   "id": "c9eea317",
   "metadata": {},
   "source": [
    "# 3. Dictionary"
   ]
  },
  {
   "cell_type": "markdown",
   "id": "932d1741",
   "metadata": {},
   "source": [
    "#### create"
   ]
  },
  {
   "cell_type": "code",
   "execution_count": 72,
   "id": "ca55b496",
   "metadata": {},
   "outputs": [],
   "source": [
    "astronaut = {\n",
    "    'name':'shiba inu',\n",
    "    'suit_size':'medium',\n",
    "    'allergies':'chocolate'\n",
    "}"
   ]
  },
  {
   "cell_type": "markdown",
   "id": "212f1db1",
   "metadata": {},
   "source": [
    "#### read"
   ]
  },
  {
   "cell_type": "code",
   "execution_count": 76,
   "id": "c1cff8d2",
   "metadata": {},
   "outputs": [
    {
     "data": {
      "text/plain": [
       "{'name': 'shiba inu', 'suit_size': 'medium', 'allergies': 'chocolate'}"
      ]
     },
     "execution_count": 76,
     "metadata": {},
     "output_type": "execute_result"
    }
   ],
   "source": [
    "astronaut"
   ]
  },
  {
   "cell_type": "code",
   "execution_count": 75,
   "id": "3d71dec8",
   "metadata": {},
   "outputs": [
    {
     "data": {
      "text/plain": [
       "'shiba inu'"
      ]
     },
     "execution_count": 75,
     "metadata": {},
     "output_type": "execute_result"
    }
   ],
   "source": [
    "astronaut['name']"
   ]
  },
  {
   "cell_type": "code",
   "execution_count": 77,
   "id": "de77eb58",
   "metadata": {},
   "outputs": [
    {
     "data": {
      "text/plain": [
       "dict_keys(['name', 'suit_size', 'allergies'])"
      ]
     },
     "execution_count": 77,
     "metadata": {},
     "output_type": "execute_result"
    }
   ],
   "source": [
    "astronaut.keys()"
   ]
  },
  {
   "cell_type": "code",
   "execution_count": 78,
   "id": "a9122cc9",
   "metadata": {},
   "outputs": [
    {
     "ename": "TypeError",
     "evalue": "'dict_keys' object is not subscriptable",
     "output_type": "error",
     "traceback": [
      "\u001b[0;31m---------------------------------------------------------------------------\u001b[0m",
      "\u001b[0;31mTypeError\u001b[0m                                 Traceback (most recent call last)",
      "Input \u001b[0;32mIn [78]\u001b[0m, in \u001b[0;36m<cell line: 1>\u001b[0;34m()\u001b[0m\n\u001b[0;32m----> 1\u001b[0m \u001b[43mastronaut\u001b[49m\u001b[38;5;241;43m.\u001b[39;49m\u001b[43mkeys\u001b[49m\u001b[43m(\u001b[49m\u001b[43m)\u001b[49m\u001b[43m[\u001b[49m\u001b[38;5;241;43m1\u001b[39;49m\u001b[43m]\u001b[49m\n",
      "\u001b[0;31mTypeError\u001b[0m: 'dict_keys' object is not subscriptable"
     ]
    }
   ],
   "source": [
    "astronaut.keys()[1]"
   ]
  },
  {
   "cell_type": "code",
   "execution_count": 79,
   "id": "dca84820",
   "metadata": {},
   "outputs": [
    {
     "data": {
      "text/plain": [
       "'suit_size'"
      ]
     },
     "execution_count": 79,
     "metadata": {},
     "output_type": "execute_result"
    }
   ],
   "source": [
    "list(astronaut.keys())[1]"
   ]
  },
  {
   "cell_type": "code",
   "execution_count": 80,
   "id": "a6a2867e",
   "metadata": {},
   "outputs": [
    {
     "data": {
      "text/plain": [
       "dict_values(['shiba inu', 'medium', 'chocolate'])"
      ]
     },
     "execution_count": 80,
     "metadata": {},
     "output_type": "execute_result"
    }
   ],
   "source": [
    "astronaut.values()"
   ]
  },
  {
   "cell_type": "code",
   "execution_count": 81,
   "id": "a4f7fd46",
   "metadata": {},
   "outputs": [
    {
     "data": {
      "text/plain": [
       "'shiba inu'"
      ]
     },
     "execution_count": 81,
     "metadata": {},
     "output_type": "execute_result"
    }
   ],
   "source": [
    "list(astronaut.values())[0]"
   ]
  },
  {
   "cell_type": "markdown",
   "id": "68c5fa59",
   "metadata": {},
   "source": [
    "#### update"
   ]
  },
  {
   "cell_type": "code",
   "execution_count": 84,
   "id": "21eb9fb4",
   "metadata": {},
   "outputs": [],
   "source": [
    "astronaut['allergies'] = 'cotton'"
   ]
  },
  {
   "cell_type": "code",
   "execution_count": 85,
   "id": "f4d5acdd",
   "metadata": {},
   "outputs": [
    {
     "data": {
      "text/plain": [
       "{'name': 'shiba inu', 'suit_size': 'medium', 'allergies': 'cotton'}"
      ]
     },
     "execution_count": 85,
     "metadata": {},
     "output_type": "execute_result"
    }
   ],
   "source": [
    "astronaut"
   ]
  },
  {
   "cell_type": "code",
   "execution_count": 86,
   "id": "4924d9cd",
   "metadata": {},
   "outputs": [],
   "source": [
    "astronaut['space_ship'] = 'Galatic 1'"
   ]
  },
  {
   "cell_type": "code",
   "execution_count": 87,
   "id": "d736dbd3",
   "metadata": {},
   "outputs": [
    {
     "data": {
      "text/plain": [
       "{'name': 'shiba inu',\n",
       " 'suit_size': 'medium',\n",
       " 'allergies': 'cotton',\n",
       " 'space_ship': 'Galatic 1'}"
      ]
     },
     "execution_count": 87,
     "metadata": {},
     "output_type": "execute_result"
    }
   ],
   "source": [
    "astronaut"
   ]
  },
  {
   "cell_type": "markdown",
   "id": "f269469e",
   "metadata": {},
   "source": [
    "#### delete"
   ]
  },
  {
   "cell_type": "code",
   "execution_count": 88,
   "id": "322038e3",
   "metadata": {},
   "outputs": [],
   "source": [
    "del astronaut['allergies']"
   ]
  },
  {
   "cell_type": "code",
   "execution_count": 89,
   "id": "839b4c0c",
   "metadata": {},
   "outputs": [
    {
     "data": {
      "text/plain": [
       "{'name': 'shiba inu', 'suit_size': 'medium', 'space_ship': 'Galatic 1'}"
      ]
     },
     "execution_count": 89,
     "metadata": {},
     "output_type": "execute_result"
    }
   ],
   "source": [
    "astronaut"
   ]
  },
  {
   "cell_type": "code",
   "execution_count": null,
   "id": "eda4a4c5",
   "metadata": {},
   "outputs": [],
   "source": []
  },
  {
   "cell_type": "code",
   "execution_count": null,
   "id": "98a72c01",
   "metadata": {},
   "outputs": [],
   "source": []
  },
  {
   "cell_type": "code",
   "execution_count": null,
   "id": "f78a5339",
   "metadata": {},
   "outputs": [],
   "source": []
  },
  {
   "cell_type": "code",
   "execution_count": null,
   "id": "6b080afb",
   "metadata": {},
   "outputs": [],
   "source": []
  },
  {
   "cell_type": "code",
   "execution_count": null,
   "id": "f14b7339",
   "metadata": {},
   "outputs": [],
   "source": []
  }
 ],
 "metadata": {
  "kernelspec": {
   "display_name": "Python 3 (ipykernel)",
   "language": "python",
   "name": "python3"
  },
  "language_info": {
   "codemirror_mode": {
    "name": "ipython",
    "version": 3
   },
   "file_extension": ".py",
   "mimetype": "text/x-python",
   "name": "python",
   "nbconvert_exporter": "python",
   "pygments_lexer": "ipython3",
   "version": "3.9.7"
  }
 },
 "nbformat": 4,
 "nbformat_minor": 5
}
