{
 "cells": [
  {
   "cell_type": "markdown",
   "id": "625b9078-ab9c-4e2d-a20e-2fa4b37f0f9c",
   "metadata": {},
   "source": [
    "# For any programming language, remember \"*CRUD*\"\n",
    "\n",
    "- Create\n",
    "- Read\n",
    "- Update\n",
    "- Delete"
   ]
  },
  {
   "cell_type": "markdown",
   "id": "f0a80c46-d18a-472b-9e00-44d12115eabc",
   "metadata": {},
   "source": [
    "# 0. Variables\n",
    "\n",
    "we use `=` to assign variables"
   ]
  },
  {
   "cell_type": "code",
   "execution_count": 6,
   "id": "0a1a46db-3ced-42ab-8426-3edef1bc3fc6",
   "metadata": {},
   "outputs": [],
   "source": [
    "space_name = 12345"
   ]
  },
  {
   "cell_type": "code",
   "execution_count": 7,
   "id": "21b652d0-345c-4319-ae24-fd740395b310",
   "metadata": {},
   "outputs": [
    {
     "data": {
      "text/plain": [
       "int"
      ]
     },
     "execution_count": 7,
     "metadata": {},
     "output_type": "execute_result"
    }
   ],
   "source": [
    "type(space_name)"
   ]
  },
  {
   "cell_type": "code",
   "execution_count": 8,
   "id": "6bcbf8e5-bda1-4f46-ad38-3c271d90b313",
   "metadata": {},
   "outputs": [],
   "source": [
    "space_name = 12345.678"
   ]
  },
  {
   "cell_type": "code",
   "execution_count": 9,
   "id": "74cfa8d2-3174-4907-85f4-3b985021b2d5",
   "metadata": {},
   "outputs": [
    {
     "data": {
      "text/plain": [
       "float"
      ]
     },
     "execution_count": 9,
     "metadata": {},
     "output_type": "execute_result"
    }
   ],
   "source": [
    "type(space_name)"
   ]
  },
  {
   "cell_type": "markdown",
   "id": "7f945607-ddbc-4fbc-87e3-6613b12e83fb",
   "metadata": {},
   "source": [
    "# 1. Data types\n",
    "Some of the most important ones are:\n",
    "- string\n",
    "- int\n",
    "- float\n",
    "- boolean"
   ]
  },
  {
   "cell_type": "markdown",
   "id": "f8825240-78cc-4ac9-9e03-7f99311286be",
   "metadata": {},
   "source": [
    "#### String\n",
    "String is a line of text and wrapped inside \" \"."
   ]
  },
  {
   "cell_type": "code",
   "execution_count": 10,
   "id": "71ac39c4-0d9e-4278-b952-4e4d36d25d6c",
   "metadata": {},
   "outputs": [
    {
     "name": "stdout",
     "output_type": "stream",
     "text": [
      "This is a string.\n"
     ]
    }
   ],
   "source": [
    "test_variable = 'This is a string.' #this is declaring a variable as a string\n",
    "print(test_variable)"
   ]
  },
  {
   "cell_type": "code",
   "execution_count": 11,
   "id": "662a01d9-ce86-46f0-8dea-824f4427d02d",
   "metadata": {},
   "outputs": [
    {
     "data": {
      "text/plain": [
       "str"
      ]
     },
     "execution_count": 11,
     "metadata": {},
     "output_type": "execute_result"
    }
   ],
   "source": [
    "type(test_variable)"
   ]
  },
  {
   "cell_type": "markdown",
   "id": "fdecb2e7-5373-49d7-b429-40db50f8cb11",
   "metadata": {},
   "source": [
    "#### Int\n",
    "Int stands for integers, it can be postive and neagtive numbers as long as it's not with decimals and trailing numbers."
   ]
  },
  {
   "cell_type": "code",
   "execution_count": 12,
   "id": "5f92d461-5e7b-4d07-8fd8-dddad4883fdf",
   "metadata": {},
   "outputs": [],
   "source": [
    "positive_number = 100\n",
    "negative_number = -123"
   ]
  },
  {
   "cell_type": "code",
   "execution_count": 13,
   "id": "5529e92f-eab3-4494-bcd9-0512151693b0",
   "metadata": {},
   "outputs": [
    {
     "data": {
      "text/plain": [
       "int"
      ]
     },
     "execution_count": 13,
     "metadata": {},
     "output_type": "execute_result"
    }
   ],
   "source": [
    "type(positive_number)"
   ]
  },
  {
   "cell_type": "code",
   "execution_count": 14,
   "id": "79cdc7fe-53fd-451c-90ce-fe35df2d8b0e",
   "metadata": {},
   "outputs": [
    {
     "data": {
      "text/plain": [
       "int"
      ]
     },
     "execution_count": 14,
     "metadata": {},
     "output_type": "execute_result"
    }
   ],
   "source": [
    "type(negative_number)"
   ]
  },
  {
   "cell_type": "code",
   "execution_count": 15,
   "id": "614b47cf-50f0-4c1c-b0bf-a15e20fd75ac",
   "metadata": {},
   "outputs": [
    {
     "data": {
      "text/plain": [
       "110"
      ]
     },
     "execution_count": 15,
     "metadata": {},
     "output_type": "execute_result"
    }
   ],
   "source": [
    "positive_number + 10"
   ]
  },
  {
   "cell_type": "code",
   "execution_count": 16,
   "id": "e7cd3837-5053-4962-a204-27d383cdabad",
   "metadata": {},
   "outputs": [],
   "source": [
    "float_number = 12345.678"
   ]
  },
  {
   "cell_type": "code",
   "execution_count": 17,
   "id": "840f7ae4-c55c-4a07-8901-9ea0bfb2c910",
   "metadata": {},
   "outputs": [
    {
     "data": {
      "text/plain": [
       "float"
      ]
     },
     "execution_count": 17,
     "metadata": {},
     "output_type": "execute_result"
    }
   ],
   "source": [
    "type(float_number)"
   ]
  },
  {
   "cell_type": "markdown",
   "id": "c4dcbe88-7687-42f4-aa45-99ad5f64829a",
   "metadata": {},
   "source": [
    "#### Boolean value\n",
    "Boolean value is either True or False. They have to be used with caps. `True` and `False`"
   ]
  },
  {
   "cell_type": "code",
   "execution_count": 18,
   "id": "08758129-8b29-4ffa-a2b7-a0dc1112db71",
   "metadata": {},
   "outputs": [
    {
     "data": {
      "text/plain": [
       "False"
      ]
     },
     "execution_count": 18,
     "metadata": {},
     "output_type": "execute_result"
    }
   ],
   "source": [
    "bool_variable = bool(0) \n",
    "bool_variable"
   ]
  },
  {
   "cell_type": "code",
   "execution_count": 19,
   "id": "4dacb0d2-3b66-48df-9a71-78dad4de8751",
   "metadata": {},
   "outputs": [
    {
     "data": {
      "text/plain": [
       "bool"
      ]
     },
     "execution_count": 19,
     "metadata": {},
     "output_type": "execute_result"
    }
   ],
   "source": [
    "type(bool_variable)"
   ]
  },
  {
   "cell_type": "markdown",
   "id": "aa3829b5-6159-4cb1-a4fe-b1933ddbaf0d",
   "metadata": {},
   "source": [
    "#### Lists\n",
    "List can contain 'string', 'int' and 'float' etc. They are also known as array. They are contained within square brackets [ ]. We need to separate each value with comma."
   ]
  },
  {
   "cell_type": "code",
   "execution_count": 20,
   "id": "6481ff6b-eb85-4aff-8a8e-d593ba8d34a2",
   "metadata": {},
   "outputs": [
    {
     "data": {
      "text/plain": [
       "list"
      ]
     },
     "execution_count": 20,
     "metadata": {},
     "output_type": "execute_result"
    }
   ],
   "source": [
    "list_variable = [1,2,3]\n",
    "type(list_variable)"
   ]
  },
  {
   "cell_type": "code",
   "execution_count": 21,
   "id": "c9112210-7485-4c78-8fa8-5143ac124b11",
   "metadata": {},
   "outputs": [
    {
     "data": {
      "text/plain": [
       "[1, 2, 3]"
      ]
     },
     "execution_count": 21,
     "metadata": {},
     "output_type": "execute_result"
    }
   ],
   "source": [
    "list_variable"
   ]
  },
  {
   "cell_type": "code",
   "execution_count": 22,
   "id": "f3c18ee5-1bd0-428f-bb89-75b5def49795",
   "metadata": {},
   "outputs": [
    {
     "data": {
      "text/plain": [
       "list"
      ]
     },
     "execution_count": 22,
     "metadata": {},
     "output_type": "execute_result"
    }
   ],
   "source": [
    "list_variable = [1,\"string\",123.45]\n",
    "type(list_variable)"
   ]
  },
  {
   "cell_type": "code",
   "execution_count": 23,
   "id": "3c06a8d2-8473-4a42-9bbd-f3b8e8e32a35",
   "metadata": {},
   "outputs": [
    {
     "data": {
      "text/plain": [
       "[1, 'string', 123.45]"
      ]
     },
     "execution_count": 23,
     "metadata": {},
     "output_type": "execute_result"
    }
   ],
   "source": [
    "list_variable"
   ]
  },
  {
   "cell_type": "code",
   "execution_count": 24,
   "id": "30287af1-267c-4bc2-a541-8a326a14575b",
   "metadata": {},
   "outputs": [
    {
     "data": {
      "text/plain": [
       "1"
      ]
     },
     "execution_count": 24,
     "metadata": {},
     "output_type": "execute_result"
    }
   ],
   "source": [
    "list_variable[0]"
   ]
  },
  {
   "cell_type": "code",
   "execution_count": 25,
   "id": "221507a0-8de9-4180-b355-116f4dde23d5",
   "metadata": {},
   "outputs": [
    {
     "data": {
      "text/plain": [
       "[2, 'string', 123.45]"
      ]
     },
     "execution_count": 25,
     "metadata": {},
     "output_type": "execute_result"
    }
   ],
   "source": [
    "list_variable[0] = 2\n",
    "list_variable"
   ]
  },
  {
   "cell_type": "code",
   "execution_count": 26,
   "id": "b8d35c02-f0ff-40c2-b7d9-2c8ae4688e69",
   "metadata": {},
   "outputs": [],
   "source": [
    "list_variable = [1,\"string\",123.45, 5,4,3,3,2,2,1]"
   ]
  },
  {
   "cell_type": "markdown",
   "id": "7c7010a9-d128-4bfc-aee9-6eba7952db20",
   "metadata": {},
   "source": [
    "#### Tuple\n",
    "Tuple is denoted by a series of values wrapped in parentheses ( ). A core difference between a tuple and a list is that a tuple is **immutable**. i.e. it can't be changed."
   ]
  },
  {
   "cell_type": "code",
   "execution_count": 27,
   "id": "45818e46-3149-4e15-af22-6a0b0b71efc6",
   "metadata": {},
   "outputs": [
    {
     "data": {
      "text/plain": [
       "tuple"
      ]
     },
     "execution_count": 27,
     "metadata": {},
     "output_type": "execute_result"
    }
   ],
   "source": [
    "tuple_variable = (1.2, 3.4, 1) #more use case in opencv, computer vision type x,y,z coordination\n",
    "type(tuple_variable)"
   ]
  },
  {
   "cell_type": "code",
   "execution_count": 28,
   "id": "503b4b73-cd24-4303-a033-9d31bb508930",
   "metadata": {},
   "outputs": [
    {
     "data": {
      "text/plain": [
       "(1.2, 3.4, 1)"
      ]
     },
     "execution_count": 28,
     "metadata": {},
     "output_type": "execute_result"
    }
   ],
   "source": [
    "tuple_variable"
   ]
  },
  {
   "cell_type": "code",
   "execution_count": 29,
   "id": "66718547-92f4-4bdc-b129-4bfb955c5f7e",
   "metadata": {},
   "outputs": [
    {
     "data": {
      "text/plain": [
       "1.2"
      ]
     },
     "execution_count": 29,
     "metadata": {},
     "output_type": "execute_result"
    }
   ],
   "source": [
    "tuple_variable[0]"
   ]
  },
  {
   "cell_type": "code",
   "execution_count": 30,
   "id": "1fd63ade-e2e9-4cbb-9892-f4f383b1d2c2",
   "metadata": {},
   "outputs": [
    {
     "ename": "TypeError",
     "evalue": "'tuple' object does not support item assignment",
     "output_type": "error",
     "traceback": [
      "\u001b[0;31m---------------------------------------------------------------------------\u001b[0m",
      "\u001b[0;31mTypeError\u001b[0m                                 Traceback (most recent call last)",
      "Input \u001b[0;32mIn [30]\u001b[0m, in \u001b[0;36m<cell line: 1>\u001b[0;34m()\u001b[0m\n\u001b[0;32m----> 1\u001b[0m tuple_variable[\u001b[38;5;241m0\u001b[39m] \u001b[38;5;241m=\u001b[39m \u001b[38;5;241m3\u001b[39m\n",
      "\u001b[0;31mTypeError\u001b[0m: 'tuple' object does not support item assignment"
     ]
    }
   ],
   "source": [
    "tuple_variable[0] = 3 ##since it is immutable -> it will create an error once you assigned the variable"
   ]
  },
  {
   "cell_type": "markdown",
   "id": "512b6d07-45a1-4bd2-8db3-3eb2f601fb9a",
   "metadata": {},
   "source": [
    "#### Set\n",
    "A set is denoted by a series of values wrapped in curly braces { }. Sets are also **immutable**. A core difference between a tuple and a set is that a set **does not contain duplicate values**. "
   ]
  },
  {
   "cell_type": "code",
   "execution_count": 31,
   "id": "ade4eb03-afd1-492a-ad16-6e3ab373ce9e",
   "metadata": {},
   "outputs": [
    {
     "data": {
      "text/plain": [
       "set"
      ]
     },
     "execution_count": 31,
     "metadata": {},
     "output_type": "execute_result"
    }
   ],
   "source": [
    "set_variable = {2, 'string', 123.45}\n",
    "type(set_variable)"
   ]
  },
  {
   "cell_type": "code",
   "execution_count": 32,
   "id": "2a0f4bf7-0d8a-402b-afbc-69512d9356e8",
   "metadata": {},
   "outputs": [
    {
     "ename": "TypeError",
     "evalue": "'set' object is not subscriptable",
     "output_type": "error",
     "traceback": [
      "\u001b[0;31m---------------------------------------------------------------------------\u001b[0m",
      "\u001b[0;31mTypeError\u001b[0m                                 Traceback (most recent call last)",
      "Input \u001b[0;32mIn [32]\u001b[0m, in \u001b[0;36m<cell line: 1>\u001b[0;34m()\u001b[0m\n\u001b[0;32m----> 1\u001b[0m \u001b[43mset_variable\u001b[49m\u001b[43m[\u001b[49m\u001b[38;5;241;43m0\u001b[39;49m\u001b[43m]\u001b[49m\n",
      "\u001b[0;31mTypeError\u001b[0m: 'set' object is not subscriptable"
     ]
    }
   ],
   "source": [
    "set_variable[0] ##set object is not subscriptable, it does not have an order so to say"
   ]
  },
  {
   "cell_type": "code",
   "execution_count": 33,
   "id": "df1616dd-7125-4c51-b8be-040b5e459e70",
   "metadata": {},
   "outputs": [],
   "source": [
    "set_variable = {1, 1, 2, 'string', 123.45}"
   ]
  },
  {
   "cell_type": "code",
   "execution_count": 34,
   "id": "eb9791cd-c6a2-4570-a333-2995f8da686d",
   "metadata": {},
   "outputs": [
    {
     "data": {
      "text/plain": [
       "{1, 123.45, 2, 'string'}"
      ]
     },
     "execution_count": 34,
     "metadata": {},
     "output_type": "execute_result"
    }
   ],
   "source": [
    "set_variable"
   ]
  },
  {
   "cell_type": "markdown",
   "id": "a97c2221-303a-40d8-a9f6-205067c11e77",
   "metadata": {},
   "source": [
    "#### Why do we need to use list, tuple, and set? Why not just use list?\n",
    "It is useful for type casting. For example,"
   ]
  },
  {
   "cell_type": "code",
   "execution_count": 35,
   "id": "34edac55-0135-46c4-a9b2-3e36b27ccafc",
   "metadata": {},
   "outputs": [
    {
     "data": {
      "text/plain": [
       "[1, 'string', 123.45, 5, 4, 3, 3, 2, 2, 1]"
      ]
     },
     "execution_count": 35,
     "metadata": {},
     "output_type": "execute_result"
    }
   ],
   "source": [
    "list_variable"
   ]
  },
  {
   "cell_type": "code",
   "execution_count": 36,
   "id": "34c8c364-12e7-4533-b387-b2c26fb599e5",
   "metadata": {},
   "outputs": [
    {
     "data": {
      "text/plain": [
       "{1, 123.45, 2, 3, 4, 5, 'string'}"
      ]
     },
     "execution_count": 36,
     "metadata": {},
     "output_type": "execute_result"
    }
   ],
   "source": [
    "# Type casting list to set back to list to get rid of duplicates\n",
    "set(list_variable)"
   ]
  },
  {
   "cell_type": "code",
   "execution_count": 37,
   "id": "123f4ee4-f4b8-4a87-b303-59685aa6bdd0",
   "metadata": {},
   "outputs": [
    {
     "data": {
      "text/plain": [
       "[1, 2, 3, 4, 5, 'string', 123.45]"
      ]
     },
     "execution_count": 37,
     "metadata": {},
     "output_type": "execute_result"
    }
   ],
   "source": [
    "list(set(list_variable))"
   ]
  },
  {
   "cell_type": "code",
   "execution_count": 38,
   "id": "7b93ae75-4df0-497b-8166-6e5a8c3060ac",
   "metadata": {},
   "outputs": [
    {
     "data": {
      "text/plain": [
       "list"
      ]
     },
     "execution_count": 38,
     "metadata": {},
     "output_type": "execute_result"
    }
   ],
   "source": [
    "type(list(set(list_variable)))"
   ]
  },
  {
   "cell_type": "code",
   "execution_count": 45,
   "id": "634f49c7-ec0e-4df2-99cc-e457c4eeb76b",
   "metadata": {},
   "outputs": [
    {
     "data": {
      "text/plain": [
       "(1, 'string', 123.45, 5, 4, 3, 3, 2, 2, 1)"
      ]
     },
     "execution_count": 45,
     "metadata": {},
     "output_type": "execute_result"
    }
   ],
   "source": [
    "tuple(list_variable) #tuple, so now it's immutable"
   ]
  },
  {
   "cell_type": "markdown",
   "id": "0a56aeee-f512-4167-878f-a2c0c25daca7",
   "metadata": {},
   "source": [
    "\n",
    "#### Dictionary\n",
    "keypair = keys and values, where the format has to be `'string'`:`'string'` or `int` or others."
   ]
  },
  {
   "cell_type": "code",
   "execution_count": 40,
   "id": "184b81df-d5d7-4035-9a5a-0e9833ec68f9",
   "metadata": {},
   "outputs": [
    {
     "data": {
      "text/plain": [
       "dict"
      ]
     },
     "execution_count": 40,
     "metadata": {},
     "output_type": "execute_result"
    }
   ],
   "source": [
    "dict_variable = {'name':'Josh', 'favourite_color':'blue', 'favorite_number':99 }\n",
    "type(dict_variable)"
   ]
  },
  {
   "cell_type": "code",
   "execution_count": 41,
   "id": "0d2899e7-e0b2-409c-9ad1-ae66bee81100",
   "metadata": {},
   "outputs": [
    {
     "name": "stdout",
     "output_type": "stream",
     "text": [
      "{'name': 'Josh', 'favourite_color': 'blue', 'favorite_number': 99}\n"
     ]
    }
   ],
   "source": [
    "print(dict_variable)"
   ]
  },
  {
   "cell_type": "markdown",
   "id": "935cbc46-306e-41e7-b4b5-defdc416ded7",
   "metadata": {},
   "source": [
    "#### Why is dictionary powerful?\n",
    "It allows user to retrieve certain data from key."
   ]
  },
  {
   "cell_type": "code",
   "execution_count": 42,
   "id": "a09eddb5-0ab0-4144-aaf6-f854846f1c83",
   "metadata": {},
   "outputs": [],
   "source": [
    "person_variable = {'name':'Josh', 'favourite_color':'blue', 'favorite_number':99 }"
   ]
  },
  {
   "cell_type": "code",
   "execution_count": 44,
   "id": "d526968d-077e-4b9e-9fc5-66be538d2186",
   "metadata": {},
   "outputs": [
    {
     "data": {
      "text/plain": [
       "'Josh'"
      ]
     },
     "execution_count": 44,
     "metadata": {},
     "output_type": "execute_result"
    }
   ],
   "source": [
    "person_variable['name']"
   ]
  },
  {
   "cell_type": "markdown",
   "id": "881bba79-89a5-4f4f-be5c-4be9b56fc242",
   "metadata": {},
   "source": [
    "It's important for machine learning model and parameters of the model."
   ]
  },
  {
   "cell_type": "code",
   "execution_count": 47,
   "id": "c01c6850-06eb-4777-83d4-812b1df1edae",
   "metadata": {},
   "outputs": [],
   "source": [
    "fit_model = {}"
   ]
  },
  {
   "cell_type": "markdown",
   "id": "75ae795e-d063-4c27-8b6d-b098617d4225",
   "metadata": {},
   "source": [
    "# 2. List"
   ]
  },
  {
   "cell_type": "markdown",
   "id": "28867bad-21f5-4bc2-be6b-53f0c57b3f4f",
   "metadata": {},
   "source": [
    "#### Create"
   ]
  },
  {
   "cell_type": "code",
   "execution_count": 50,
   "id": "6b95b2a6-1010-4e00-aae7-746a188e7435",
   "metadata": {},
   "outputs": [],
   "source": [
    "names = ['neil armstrong', 'buzz aldrin', 'sally ride', 'yuri gagrin', 'elon musk']"
   ]
  },
  {
   "cell_type": "markdown",
   "id": "9552c119-b1f2-4d67-a315-b02790f60632",
   "metadata": {},
   "source": [
    "#### Read"
   ]
  },
  {
   "cell_type": "code",
   "execution_count": 51,
   "id": "5ed61372-6a9a-4d58-b92b-6f29b1363d2c",
   "metadata": {},
   "outputs": [
    {
     "data": {
      "text/plain": [
       "['neil armstrong', 'buzz aldrin', 'sally ride', 'yuri gagrin', 'elon musk']"
      ]
     },
     "execution_count": 51,
     "metadata": {},
     "output_type": "execute_result"
    }
   ],
   "source": [
    "names"
   ]
  },
  {
   "cell_type": "code",
   "execution_count": 52,
   "id": "2857aa4f-76de-421c-b136-085af23c5248",
   "metadata": {},
   "outputs": [
    {
     "data": {
      "text/plain": [
       "'neil armstrong'"
      ]
     },
     "execution_count": 52,
     "metadata": {},
     "output_type": "execute_result"
    }
   ],
   "source": [
    "names[0]"
   ]
  },
  {
   "cell_type": "code",
   "execution_count": 53,
   "id": "c27efce0-02ef-4127-a3c2-fa0b48988faf",
   "metadata": {},
   "outputs": [
    {
     "data": {
      "text/plain": [
       "'elon musk'"
      ]
     },
     "execution_count": 53,
     "metadata": {},
     "output_type": "execute_result"
    }
   ],
   "source": [
    "names[-1]"
   ]
  },
  {
   "cell_type": "code",
   "execution_count": 55,
   "id": "deedaa71-6df6-4302-a540-700c24b2d86e",
   "metadata": {},
   "outputs": [
    {
     "data": {
      "text/plain": [
       "5"
      ]
     },
     "execution_count": 55,
     "metadata": {},
     "output_type": "execute_result"
    }
   ],
   "source": [
    "len(names)"
   ]
  },
  {
   "cell_type": "markdown",
   "id": "d5273d00-3c1e-47d2-98fa-157f2d9fe81d",
   "metadata": {},
   "source": [
    "#### Update"
   ]
  },
  {
   "cell_type": "code",
   "execution_count": 56,
   "id": "645ed33e-2a15-4de3-b0ca-831a3d170d0b",
   "metadata": {},
   "outputs": [
    {
     "data": {
      "text/plain": [
       "['neil armstrong', 'buzz aldrin', 'sally ride', 'yuri gagrin', 'Shiba Inu']"
      ]
     },
     "execution_count": 56,
     "metadata": {},
     "output_type": "execute_result"
    }
   ],
   "source": [
    "\n",
    "names[-1] = 'Shiba Inu'\n",
    "names"
   ]
  },
  {
   "cell_type": "code",
   "execution_count": 57,
   "id": "77e5f197-f5a6-435b-861f-64912ff733da",
   "metadata": {},
   "outputs": [],
   "source": [
    "names.append('elon musk')"
   ]
  },
  {
   "cell_type": "code",
   "execution_count": 58,
   "id": "151bf713-d69f-4603-9884-15ec4478baa6",
   "metadata": {},
   "outputs": [
    {
     "data": {
      "text/plain": [
       "['neil armstrong',\n",
       " 'buzz aldrin',\n",
       " 'sally ride',\n",
       " 'yuri gagrin',\n",
       " 'Shiba Inu',\n",
       " 'elon musk']"
      ]
     },
     "execution_count": 58,
     "metadata": {},
     "output_type": "execute_result"
    }
   ],
   "source": [
    "names"
   ]
  },
  {
   "cell_type": "code",
   "execution_count": 59,
   "id": "37693e3c-ca8c-42a9-8902-950298f8195f",
   "metadata": {},
   "outputs": [],
   "source": [
    "names.insert?"
   ]
  },
  {
   "cell_type": "code",
   "execution_count": 65,
   "id": "88f04859-e70e-453e-84d2-58067b2084d7",
   "metadata": {},
   "outputs": [
    {
     "data": {
      "text/plain": [
       "['neil armstrong',\n",
       " 'buzz aldrin',\n",
       " 'richard benson',\n",
       " 'sally ride',\n",
       " 'yuri gagrin',\n",
       " 'Shiba Inu',\n",
       " 'elon musk']"
      ]
     },
     "execution_count": 65,
     "metadata": {},
     "output_type": "execute_result"
    }
   ],
   "source": [
    "names.insert(2, 'richard benson')\n",
    "names"
   ]
  },
  {
   "cell_type": "markdown",
   "id": "f7ccacce-7f76-446e-ac8e-eb3505151f5f",
   "metadata": {},
   "source": [
    "#### Delete"
   ]
  },
  {
   "cell_type": "code",
   "execution_count": 66,
   "id": "35311c91-e348-4fed-ac2b-2a16ce056dcb",
   "metadata": {},
   "outputs": [
    {
     "data": {
      "text/plain": [
       "['neil armstrong',\n",
       " 'buzz aldrin',\n",
       " 'sally ride',\n",
       " 'yuri gagrin',\n",
       " 'Shiba Inu',\n",
       " 'elon musk']"
      ]
     },
     "execution_count": 66,
     "metadata": {},
     "output_type": "execute_result"
    }
   ],
   "source": [
    "del names[2]\n",
    "names"
   ]
  },
  {
   "cell_type": "markdown",
   "id": "3fb4e74a-3e27-42de-b148-c826c53673d0",
   "metadata": {},
   "source": [
    "# 3. Dictionary"
   ]
  },
  {
   "cell_type": "markdown",
   "id": "dfe17fd5-1b38-46b9-9751-54db56ae3354",
   "metadata": {},
   "source": [
    "#### create"
   ]
  },
  {
   "cell_type": "code",
   "execution_count": 72,
   "id": "b74c8f7a-51d4-47b9-acf5-8fdb85a9ab46",
   "metadata": {},
   "outputs": [],
   "source": [
    "astronaut = {\n",
    "    'name':'shiba inu',\n",
    "    'suit_size':'medium',\n",
    "    'allergies':'chocolate'\n",
    "}"
   ]
  },
  {
   "cell_type": "markdown",
   "id": "1cd3a125-fab6-4193-9dbe-434dba3ed7e6",
   "metadata": {},
   "source": [
    "#### read"
   ]
  },
  {
   "cell_type": "code",
   "execution_count": 76,
   "id": "12ca7e30-2404-4c64-8fc7-29947cf10dc9",
   "metadata": {},
   "outputs": [
    {
     "data": {
      "text/plain": [
       "{'name': 'shiba inu', 'suit_size': 'medium', 'allergies': 'chocolate'}"
      ]
     },
     "execution_count": 76,
     "metadata": {},
     "output_type": "execute_result"
    }
   ],
   "source": [
    "astronaut"
   ]
  },
  {
   "cell_type": "code",
   "execution_count": 75,
   "id": "c2bcd1cd-af50-40f1-bf25-a800eaf34cbb",
   "metadata": {},
   "outputs": [
    {
     "data": {
      "text/plain": [
       "'shiba inu'"
      ]
     },
     "execution_count": 75,
     "metadata": {},
     "output_type": "execute_result"
    }
   ],
   "source": [
    "astronaut['name']"
   ]
  },
  {
   "cell_type": "code",
   "execution_count": 77,
   "id": "77dcc229-9117-464f-abde-a3f55037e3ee",
   "metadata": {},
   "outputs": [
    {
     "data": {
      "text/plain": [
       "dict_keys(['name', 'suit_size', 'allergies'])"
      ]
     },
     "execution_count": 77,
     "metadata": {},
     "output_type": "execute_result"
    }
   ],
   "source": [
    "astronaut.keys()"
   ]
  },
  {
   "cell_type": "code",
   "execution_count": 78,
   "id": "0c46dbe1-8e2d-4909-8b72-6ae52b5d6ec7",
   "metadata": {},
   "outputs": [
    {
     "ename": "TypeError",
     "evalue": "'dict_keys' object is not subscriptable",
     "output_type": "error",
     "traceback": [
      "\u001b[0;31m---------------------------------------------------------------------------\u001b[0m",
      "\u001b[0;31mTypeError\u001b[0m                                 Traceback (most recent call last)",
      "Input \u001b[0;32mIn [78]\u001b[0m, in \u001b[0;36m<cell line: 1>\u001b[0;34m()\u001b[0m\n\u001b[0;32m----> 1\u001b[0m \u001b[43mastronaut\u001b[49m\u001b[38;5;241;43m.\u001b[39;49m\u001b[43mkeys\u001b[49m\u001b[43m(\u001b[49m\u001b[43m)\u001b[49m\u001b[43m[\u001b[49m\u001b[38;5;241;43m1\u001b[39;49m\u001b[43m]\u001b[49m\n",
      "\u001b[0;31mTypeError\u001b[0m: 'dict_keys' object is not subscriptable"
     ]
    }
   ],
   "source": [
    "astronaut.keys()[1]"
   ]
  },
  {
   "cell_type": "code",
   "execution_count": 79,
   "id": "53cef5d2-6bfa-408e-8359-5b98a3473b83",
   "metadata": {},
   "outputs": [
    {
     "data": {
      "text/plain": [
       "'suit_size'"
      ]
     },
     "execution_count": 79,
     "metadata": {},
     "output_type": "execute_result"
    }
   ],
   "source": [
    "list(astronaut.keys())[1]"
   ]
  },
  {
   "cell_type": "code",
   "execution_count": 80,
   "id": "c653ff6e-eeb7-4cfe-8ed1-ab6fc9c5598f",
   "metadata": {},
   "outputs": [
    {
     "data": {
      "text/plain": [
       "dict_values(['shiba inu', 'medium', 'chocolate'])"
      ]
     },
     "execution_count": 80,
     "metadata": {},
     "output_type": "execute_result"
    }
   ],
   "source": [
    "astronaut.values()"
   ]
  },
  {
   "cell_type": "code",
   "execution_count": 81,
   "id": "eed870f7-13a4-4048-b84f-d166e5bb333d",
   "metadata": {},
   "outputs": [
    {
     "data": {
      "text/plain": [
       "'shiba inu'"
      ]
     },
     "execution_count": 81,
     "metadata": {},
     "output_type": "execute_result"
    }
   ],
   "source": [
    "list(astronaut.values())[0]"
   ]
  },
  {
   "cell_type": "markdown",
   "id": "ba4d529a-6a9f-41f5-9746-829b2e6de64f",
   "metadata": {},
   "source": [
    "#### update"
   ]
  },
  {
   "cell_type": "code",
   "execution_count": 84,
   "id": "1914133e-9d0b-4537-b8d6-0edb631c08da",
   "metadata": {},
   "outputs": [],
   "source": [
    "astronaut['allergies'] = 'cotton'"
   ]
  },
  {
   "cell_type": "code",
   "execution_count": 85,
   "id": "11587dc9-15cb-434f-aa8b-55d3e27eb859",
   "metadata": {},
   "outputs": [
    {
     "data": {
      "text/plain": [
       "{'name': 'shiba inu', 'suit_size': 'medium', 'allergies': 'cotton'}"
      ]
     },
     "execution_count": 85,
     "metadata": {},
     "output_type": "execute_result"
    }
   ],
   "source": [
    "astronaut"
   ]
  },
  {
   "cell_type": "code",
   "execution_count": 86,
   "id": "6d64e6eb-612b-4662-91ba-29ea4c1854bc",
   "metadata": {},
   "outputs": [],
   "source": [
    "astronaut['space_ship'] = 'Galatic 1'"
   ]
  },
  {
   "cell_type": "code",
   "execution_count": 87,
   "id": "154335c3-dd02-404b-af87-be768277e222",
   "metadata": {},
   "outputs": [
    {
     "data": {
      "text/plain": [
       "{'name': 'shiba inu',\n",
       " 'suit_size': 'medium',\n",
       " 'allergies': 'cotton',\n",
       " 'space_ship': 'Galatic 1'}"
      ]
     },
     "execution_count": 87,
     "metadata": {},
     "output_type": "execute_result"
    }
   ],
   "source": [
    "astronaut"
   ]
  },
  {
   "cell_type": "markdown",
   "id": "2d076285-146a-4cb5-b559-92e63937da64",
   "metadata": {},
   "source": [
    "#### delete"
   ]
  },
  {
   "cell_type": "code",
   "execution_count": 88,
   "id": "e43c674a-0efb-49d7-bd78-09ca84958f5d",
   "metadata": {},
   "outputs": [],
   "source": [
    "del astronaut['allergies']"
   ]
  },
  {
   "cell_type": "code",
   "execution_count": 89,
   "id": "57ddc202-00c5-44ee-a232-ed99b500838e",
   "metadata": {},
   "outputs": [
    {
     "data": {
      "text/plain": [
       "{'name': 'shiba inu', 'suit_size': 'medium', 'space_ship': 'Galatic 1'}"
      ]
     },
     "execution_count": 89,
     "metadata": {},
     "output_type": "execute_result"
    }
   ],
   "source": [
    "astronaut"
   ]
  }
 ],
 "metadata": {
  "kernelspec": {
   "display_name": "Python 3 (ipykernel)",
   "language": "python",
   "name": "python3"
  },
  "language_info": {
   "codemirror_mode": {
    "name": "ipython",
    "version": 3
   },
   "file_extension": ".py",
   "mimetype": "text/x-python",
   "name": "python",
   "nbconvert_exporter": "python",
   "pygments_lexer": "ipython3",
   "version": "3.9.7"
  }
 },
 "nbformat": 4,
 "nbformat_minor": 5
}
