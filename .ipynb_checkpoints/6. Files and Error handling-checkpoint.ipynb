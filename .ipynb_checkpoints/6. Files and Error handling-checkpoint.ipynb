{
 "cells": [
  {
   "cell_type": "markdown",
   "id": "3995811d",
   "metadata": {},
   "source": [
    "# 0. File writing\n",
    "Bear in mind that some packages will have their way of writing and reading files, eg. numpy, Pandas, etc."
   ]
  },
  {
   "cell_type": "markdown",
   "id": "e75b3579",
   "metadata": {},
   "source": [
    "#### `with` statement\n",
    "The `with` statement helps work with resources like file streams. It handles exceptions and ensures the stream is closed when no longer needed."
   ]
  },
  {
   "cell_type": "code",
   "execution_count": 7,
   "id": "22e78db1",
   "metadata": {},
   "outputs": [],
   "source": [
    "# write out our mission journal working the temp file\n",
    "with open('mission_journal.txt', mode='w') as f:\n",
    "    f.write(\"It's my first day on the space mission. It is very nice.\")"
   ]
  },
  {
   "cell_type": "markdown",
   "id": "9f29b4a1",
   "metadata": {},
   "source": [
    "#### `open( )` modes\n",
    "There are a number of different modes you can use with the open function. \n",
    "\n",
    "Some of the common ones are:\n",
    "- `r`: read\n",
    "- `w`: write\n",
    "- `a`: append\n",
    "- `rb`,`wb`: read binary, write binary"
   ]
  },
  {
   "cell_type": "code",
   "execution_count": 5,
   "id": "e70ccadc",
   "metadata": {},
   "outputs": [],
   "source": [
    "open?"
   ]
  },
  {
   "cell_type": "markdown",
   "id": "a0a9bed1",
   "metadata": {},
   "source": [
    "# 1. File reading"
   ]
  },
  {
   "cell_type": "code",
   "execution_count": 8,
   "id": "4debae1f",
   "metadata": {},
   "outputs": [],
   "source": [
    "# read from journal\n",
    "with open('mission_journal.txt', 'r') as f:\n",
    "    file = f.read()"
   ]
  },
  {
   "cell_type": "code",
   "execution_count": 9,
   "id": "dd64fa7c",
   "metadata": {},
   "outputs": [
    {
     "data": {
      "text/plain": [
       "\"It's my first day on the space mission. It is very nice.\""
      ]
     },
     "execution_count": 9,
     "metadata": {},
     "output_type": "execute_result"
    }
   ],
   "source": [
    "file"
   ]
  },
  {
   "cell_type": "code",
   "execution_count": 10,
   "id": "de516fa1",
   "metadata": {},
   "outputs": [
    {
     "name": "stdout",
     "output_type": "stream",
     "text": [
      "It's my first day on the space mission. It is very nice.\n"
     ]
    }
   ],
   "source": [
    "print(file)"
   ]
  },
  {
   "cell_type": "markdown",
   "id": "69f0bec4",
   "metadata": {},
   "source": [
    "# 2. Error Handling"
   ]
  },
  {
   "cell_type": "code",
   "execution_count": 18,
   "id": "c2cddd10",
   "metadata": {},
   "outputs": [],
   "source": [
    "# create a set\n",
    "new_set = {1,2,3,4,5,6}"
   ]
  },
  {
   "cell_type": "code",
   "execution_count": 19,
   "id": "eb110030",
   "metadata": {},
   "outputs": [
    {
     "data": {
      "text/plain": [
       "set"
      ]
     },
     "execution_count": 19,
     "metadata": {},
     "output_type": "execute_result"
    }
   ],
   "source": [
    "type(new_set)"
   ]
  },
  {
   "cell_type": "code",
   "execution_count": 20,
   "id": "74bb687b",
   "metadata": {},
   "outputs": [
    {
     "ename": "TypeError",
     "evalue": "'set' object does not support item assignment",
     "output_type": "error",
     "traceback": [
      "\u001b[0;31m---------------------------------------------------------------------------\u001b[0m",
      "\u001b[0;31mTypeError\u001b[0m                                 Traceback (most recent call last)",
      "\u001b[0;32m/var/folders/zr/5x_cvwk127n5xpyz5kycynvr0000gp/T/ipykernel_93560/349934102.py\u001b[0m in \u001b[0;36m<module>\u001b[0;34m\u001b[0m\n\u001b[0;32m----> 1\u001b[0;31m \u001b[0mnew_set\u001b[0m\u001b[0;34m[\u001b[0m\u001b[0;36m0\u001b[0m\u001b[0;34m]\u001b[0m \u001b[0;34m=\u001b[0m \u001b[0;36m4\u001b[0m\u001b[0;34m\u001b[0m\u001b[0;34m\u001b[0m\u001b[0m\n\u001b[0m",
      "\u001b[0;31mTypeError\u001b[0m: 'set' object does not support item assignment"
     ]
    }
   ],
   "source": [
    "new_set[0] = 4"
   ]
  },
  {
   "cell_type": "markdown",
   "id": "11545823",
   "metadata": {},
   "source": [
    "#### Exceptions\n",
    "Note that by wrapping our code (which should cause an error) in a try/except block, an exception hasn't be raised but rather it's been handled gracefully."
   ]
  },
  {
   "cell_type": "code",
   "execution_count": 25,
   "id": "08872110",
   "metadata": {},
   "outputs": [
    {
     "name": "stdout",
     "output_type": "stream",
     "text": [
      "Error message: 'set' object does not support item assignment\n",
      "Something went wrong with your request.\n"
     ]
    }
   ],
   "source": [
    "# try something using the try keyword\n",
    "try: \n",
    "    #run a piece of code which may cause an error\n",
    "    new_set[0] = 4\n",
    "#if we have an error, this code below will run\n",
    "except Exception as e:\n",
    "    # print out something that's a little nicer for the user\n",
    "    print(f'Error message: {e}')\n",
    "    print('Something went wrong with your request.')"
   ]
  },
  {
   "cell_type": "code",
   "execution_count": null,
   "id": "84aa5ac2",
   "metadata": {},
   "outputs": [],
   "source": []
  },
  {
   "cell_type": "code",
   "execution_count": null,
   "id": "820f80f7",
   "metadata": {},
   "outputs": [],
   "source": []
  },
  {
   "cell_type": "code",
   "execution_count": null,
   "id": "e05f2643",
   "metadata": {},
   "outputs": [],
   "source": []
  },
  {
   "cell_type": "code",
   "execution_count": null,
   "id": "dbdc4555",
   "metadata": {},
   "outputs": [],
   "source": []
  },
  {
   "cell_type": "code",
   "execution_count": null,
   "id": "20f9a7f7",
   "metadata": {},
   "outputs": [],
   "source": []
  },
  {
   "cell_type": "code",
   "execution_count": null,
   "id": "86261a63",
   "metadata": {},
   "outputs": [],
   "source": []
  }
 ],
 "metadata": {
  "kernelspec": {
   "display_name": "Python 3 (ipykernel)",
   "language": "python",
   "name": "python3"
  },
  "language_info": {
   "codemirror_mode": {
    "name": "ipython",
    "version": 3
   },
   "file_extension": ".py",
   "mimetype": "text/x-python",
   "name": "python",
   "nbconvert_exporter": "python",
   "pygments_lexer": "ipython3",
   "version": "3.9.7"
  }
 },
 "nbformat": 4,
 "nbformat_minor": 5
}
